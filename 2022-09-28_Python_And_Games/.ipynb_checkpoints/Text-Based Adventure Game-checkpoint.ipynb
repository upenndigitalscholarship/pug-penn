{
 "cells": [
  {
   "cell_type": "code",
   "execution_count": null,
   "id": "0b557385",
   "metadata": {},
   "outputs": [],
   "source": [
    "https://github.com/makeuseofcode/python-adventure-game/blob/main/AdventureGame.py"
   ]
  }
 ],
 "metadata": {
  "kernelspec": {
   "display_name": "Python 3 (ipykernel)",
   "language": "python",
   "name": "python3"
  },
  "language_info": {
   "codemirror_mode": {
    "name": "ipython",
    "version": 3
   },
   "file_extension": ".py",
   "mimetype": "text/x-python",
   "name": "python",
   "nbconvert_exporter": "python",
   "pygments_lexer": "ipython3",
   "version": "3.8.12"
  }
 },
 "nbformat": 4,
 "nbformat_minor": 5
}
