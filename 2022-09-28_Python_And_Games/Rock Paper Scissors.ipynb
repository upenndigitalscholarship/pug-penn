{
 "cells": [
  {
   "cell_type": "markdown",
   "id": "83c54c47",
   "metadata": {},
   "source": [
    "First, let's import randint  from the random module. This is how our computer opponent will play."
   ]
  },
  {
   "cell_type": "code",
   "execution_count": null,
   "id": "bdec1c73",
   "metadata": {},
   "outputs": [],
   "source": [
    "from random import randint"
   ]
  },
  {
   "cell_type": "markdown",
   "id": "9f8e575b",
   "metadata": {},
   "source": [
    "Then we create a list of play options:"
   ]
  },
  {
   "cell_type": "code",
   "execution_count": null,
   "id": "153144d6",
   "metadata": {},
   "outputs": [],
   "source": [
    "#create a list of play options\n",
    "options = [\"Rock\", \"Paper\", \"Scissors\"]"
   ]
  },
  {
   "cell_type": "markdown",
   "id": "980ebe50",
   "metadata": {},
   "source": [
    "Now let's set up players - the computer and you! The computer selects a random integer between 0 and 2, which will correspond with the list order (0 refers to Rock, 1 refers to Paper, 2 refers to Scissors.) "
   ]
  },
  {
   "cell_type": "code",
   "execution_count": null,
   "id": "bcb7205f",
   "metadata": {},
   "outputs": [],
   "source": [
    "#assign a random play to the computer\n",
    "computer = options[randint(0,2)]\n",
    "\n",
    "#set player to False\n",
    "player = False"
   ]
  },
  {
   "cell_type": "markdown",
   "id": "493e4fec",
   "metadata": {},
   "source": [
    "Now let's set up gameplay. "
   ]
  },
  {
   "cell_type": "code",
   "execution_count": null,
   "id": "d6efe90b",
   "metadata": {},
   "outputs": [],
   "source": [
    "while player == False:\n",
    "#set player to True\n",
    "    player = input(\"Rock, Paper, Scissors?\")\n",
    "    if player == computer:\n",
    "        print(\"Tie!\") # \n",
    "    elif player == \"Rock\":\n",
    "        if computer == \"Paper\":\n",
    "            print(\"You lose!\", computer, \"covers\", player) # Paper covers Rock!\n",
    "        else:\n",
    "            print(\"You win!\", player, \"smashes\", computer) # Rock smashes Scissors!\n",
    "    elif player == \"Paper\":\n",
    "        if computer == \"Scissors\":\n",
    "            print(\"You lose!\", computer, \"cut\", player) # Scissors cut paper!\n",
    "        else:\n",
    "            print(\"You win!\", player, \"covers\", computer) # Paper covers Rock!\n",
    "    elif player == \"Scissors\":\n",
    "        if computer == \"Rock\":\n",
    "            print(\"You lose...\", computer, \"smashes\", player) # Rock smashes Scissors!\n",
    "        else:\n",
    "            print(\"You win!\", player, \"cut\", computer) # Scissors cut Paper!\n",
    "    else:\n",
    "        print(\"That's not a valid play. Check your spelling!\") # The input was not one of the choices in the list. \n",
    "    #player was set to True, but we want it to be False so the loop continues\n",
    "    player = False\n",
    "    computer = options[randint(0,2)]"
   ]
  },
  {
   "cell_type": "code",
   "execution_count": null,
   "id": "59752e3d",
   "metadata": {},
   "outputs": [],
   "source": [
    "Things we might try to edit: \n",
    "- Change the input model to prevent invalid plays\n",
    "- Edit for efficiency"
   ]
  }
 ],
 "metadata": {
  "kernelspec": {
   "display_name": "Python 3 (ipykernel)",
   "language": "python",
   "name": "python3"
  },
  "language_info": {
   "codemirror_mode": {
    "name": "ipython",
    "version": 3
   },
   "file_extension": ".py",
   "mimetype": "text/x-python",
   "name": "python",
   "nbconvert_exporter": "python",
   "pygments_lexer": "ipython3",
   "version": "3.8.12"
  }
 },
 "nbformat": 4,
 "nbformat_minor": 5
}
