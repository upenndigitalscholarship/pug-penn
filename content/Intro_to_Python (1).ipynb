{
  "nbformat": 4,
  "nbformat_minor": 0,
  "metadata": {
    "colab": {
      "provenance": []
    },
    "kernelspec": {
      "name": "python3",
      "display_name": "Python 3"
    },
    "language_info": {
      "name": "python"
    }
  },
  "cells": [
    {
      "cell_type": "markdown",
      "source": [
        "## **An Introduction to Python Programming**\n",
        "\n",
        "**By Stephen Hall**\n",
        "\n",
        "Python is a great language for new coders. This notebook will walk you through some of the basic operations on which all Python programs are built. To use this notebook, you can type code into any gray code cell, and press either the \"play\" button or Shift + Enter to run it."
      ],
      "metadata": {
        "id": "ihyjwU0EiJNf"
      }
    },
    {
      "cell_type": "markdown",
      "source": [
        "## **Hello world!**\n",
        "\n",
        "It is tradition that when someone is learning to code, the very first thing they write is a \"Hello World\" program. In the cell below, write the following statement, including the quotes and parentheses:\n",
        "\n",
        "`print('Hello world')`\n",
        "\n",
        "Now run the cell and see what happens. Then, change the text inside the quotes and run it again."
      ],
      "metadata": {
        "id": "_S_JyAdApx6i"
      }
    },
    {
      "cell_type": "code",
      "source": [],
      "metadata": {
        "id": "h_-fQyEaCjIh"
      },
      "execution_count": null,
      "outputs": []
    },
    {
      "cell_type": "markdown",
      "source": [
        "Next, let's try creating a variable. In the cell below, write the following code, replacing `yourname` with your name in quotes (e.g. `name = 'Stephen'`):\n",
        "\n",
        "`name = yourname`\n",
        "\n",
        "Then run the cell. You won't see any output, but your name is now saved to the variable `name`."
      ],
      "metadata": {
        "id": "CkomxfXmq1_H"
      }
    },
    {
      "cell_type": "code",
      "source": [],
      "metadata": {
        "id": "fxM3Qb0DC2cW"
      },
      "execution_count": null,
      "outputs": []
    },
    {
      "cell_type": "markdown",
      "source": [
        "Now let's insert your name into a \"Hello World\" statement. Enter the following in the cell below and run it:\n",
        "\n",
        "`print('Hello world, my name is ' + name)`"
      ],
      "metadata": {
        "id": "ff3tGUwUrida"
      }
    },
    {
      "cell_type": "code",
      "source": [],
      "metadata": {
        "id": "FQnnsDQtC4Iv"
      },
      "execution_count": null,
      "outputs": []
    },
    {
      "cell_type": "markdown",
      "source": [
        "What we just saw is called string concatenation. In coding, there are several different types of data. Character sequences, like words or phrases, are called \"strings.\" We just concatenated (connected) two strings: `Hello world, my name is `, and the string you saved to the variable `name`.\n",
        "\n",
        "Now, let's look at some other data types Python uses:\n",
        "\n",
        "## **Data Types**\n",
        "\n",
        "*   booleans --- statements that are either `True` or `False`\n",
        "*   integers --- e.g. `4`, `-17`, `19054`, etc.\n",
        "*   floats (decimals) --- e.g. `3.14`, `98.6`, etc.\n",
        "*   lists (lists of items saved to a single variable) --- `['apples', 'bananas', 'oranges']`\n",
        "*   tuples (similar to lists, but can't be modified) --- `(name, SSN, phone_number, address)`\n",
        "*   dictionaries (used for data in key-value pairs) --- `my_car = {'make': 'Honda', 'model': 'Accord', 'year': 2020, 'mpg': 32.6}`\n",
        "\n",
        "## **Variable Assignment**\n",
        "When assigning or re-assigning a variable of any type, the syntax is:\n",
        "\n",
        "`variable_name = variable_value`\n",
        "\n",
        "For example, the statement `my_var = 7` creates a variable called `my_var` and sets it equal to 7.\n",
        "\n",
        "Let's create some variables in the cell below. Try making the following:\n",
        "\n",
        "*   A boolean called `saturday` that contains value `True` if today is Saturday, or `False` if it is not. (Be sure to capitalize the T or F!)\n",
        "*   An integer called `answer`, set to 42\n",
        "*   A float called `pi`, set to 3.14159\n",
        "*   A list called `salad`, containing the strings `'tomato'`, `'lettuce'`, and `'carrot'`\n",
        "*   A tuple called `my_info`, containing 1) your name as a string, 2) your age as an integer, and 3) your job title as a string\n",
        "*   A dictionary called `dog`, containing the items `'name': 'Rover'`, `'breed': 'labrador'`, and `'age': 8`\n",
        "\n",
        "\n",
        "\n",
        "\n",
        "\n",
        "\n",
        "\n"
      ],
      "metadata": {
        "id": "6ySJP07rvglg"
      }
    },
    {
      "cell_type": "code",
      "source": [],
      "metadata": {
        "id": "Mpvix2-CGk8A"
      },
      "execution_count": null,
      "outputs": []
    },
    {
      "cell_type": "markdown",
      "source": [
        "Run the cell above so the variables get assigned. Then, you can display the variable values by printing their names in the cell below. For example, if you type `print(salad)` and run the cell, it should display the values contained in the `salad` list. You can make multiple print statements in a single code cell."
      ],
      "metadata": {
        "id": "H-rP3CpJQeVd"
      }
    },
    {
      "cell_type": "code",
      "source": [],
      "metadata": {
        "id": "N7ecHSTPRXeO"
      },
      "execution_count": null,
      "outputs": []
    },
    {
      "cell_type": "markdown",
      "source": [
        "## **Math**\n",
        "\n",
        "Most of what computers do is based on math, and Python is well-equipped to do it. It uses mostly standard mathematical symbols, as shown below:\n",
        "\n",
        "`+` addition\n",
        "\n",
        "`-` subtraction\n",
        "\n",
        "`*` multiplication\n",
        "\n",
        "`/` division\n",
        "\n",
        "`**` exponents\n",
        "\n",
        "`<` less than\n",
        "\n",
        "`>` greater than\n",
        "\n",
        "`==` equal to\n",
        "\n",
        "`<=` less than or equal to\n",
        "\n",
        "`>=` greater than or equal to\n",
        "\n",
        "`!=` not equal to\n",
        "\n",
        "`%` modulus\n",
        "\n",
        "Python can easily do math with numbers and/or numerical variables. For example, take the variables:\n",
        "\n",
        "```\n",
        "x = 7\n",
        "y = 2\n",
        "\n",
        "```\n",
        "\n",
        "`x + y` --> 9\n",
        "\n",
        "`x - y` --> 5\n",
        "\n",
        "`x * y` --> 14\n",
        "\n",
        "`x / y` --> 3.5\n",
        "\n",
        "`x ** y` --> 49 (i.e. `x` raised to the power of `y`)\n",
        "\n",
        "`x > y` --> True\n",
        "\n",
        "`x == y` --> False\n",
        "\n",
        "\n",
        "> *NOTE:* Python uses both single and double equals signs (`=` and `==`). A `=` character assigns a value (e.g. `x = 7` sets the value of `x` to 7), while a `==` character tests whether two values are equal (e.g. `x == 7` asks \"Does `x` equal 7?\"). The latter returns a boolean value.\n",
        "\n",
        "The modulo (`%`) character may be unfamiliar to you. You can think of it as a division remainder. If we divide 7 by 2, the remainder is 1, so `x % y` comes out to 1.\n",
        "\n",
        "Do some math in the cell below. If you want a specific problem to solve, make the variables:\n",
        "\n",
        "```\n",
        "seconds = 60\n",
        "minutes = 60\n",
        "hours = 24\n",
        "days = 365\n",
        "```\n",
        "\n",
        "and calculate the number of seconds in a year. Save the answer to a new variable called `num_seconds`."
      ],
      "metadata": {
        "id": "NHYNo3lxuiRQ"
      }
    },
    {
      "cell_type": "code",
      "source": [],
      "metadata": {
        "id": "1QnLzRDXxua7"
      },
      "execution_count": null,
      "outputs": []
    },
    {
      "cell_type": "markdown",
      "source": [
        "## **List Manipulation**\n",
        "\n",
        "Python programs rely *heavily* on lists, and there are tons of ways to manipulate them. We'll check out a few of the basic list methods now. Consider the following list:\n",
        "\n",
        "`letters = ['B', 'C', 'A', 'D']`\n",
        "\n",
        "This list contains 4 elements: `B`, `C`, `A`, and `D`. To get a particular element from a list, you call it by its **list index**. For example, the command `print(letters[2])` would print the item at index 2 in `letters`. The syntax is `listName[indexNumber]`.\n",
        "\n",
        "Python is \"zero-indexed,\" meaning it starts counting from 0. So, in the list `letters`, `B` is at index 0, `C` is at index 1, `A` is at index 2, and `D` is at index 3.\n",
        "\n",
        "Copy the `letters` list into the cell below, and write a statement below it that prints the letter C by itself."
      ],
      "metadata": {
        "id": "oLIOzCkZeTkd"
      }
    },
    {
      "cell_type": "code",
      "source": [],
      "metadata": {
        "id": "JibUAGywLPSU"
      },
      "execution_count": null,
      "outputs": []
    },
    {
      "cell_type": "markdown",
      "source": [
        "What if you wanted to add an item to a list? Using the `append` method, we can attach a new item to the end of the list. Enter the following code in the cell below and run it:\n",
        "\n",
        "```\n",
        "print(letters)\n",
        "letters.append('E')\n",
        "print(letters)\n",
        "```\n",
        "\n"
      ],
      "metadata": {
        "id": "mdQAjFjLhWsJ"
      }
    },
    {
      "cell_type": "code",
      "source": [],
      "metadata": {
        "id": "Vut39hlsLQb8"
      },
      "execution_count": null,
      "outputs": []
    },
    {
      "cell_type": "markdown",
      "source": [
        "## **Nested Lists**\n",
        "\n",
        "Lists can be inside of other lists! Consider the following example:\n",
        "\n",
        "`evens_and_odds = [[2,4,6,8,10], [1,3,5,7,9]]`\n",
        "\n",
        "The list `evens_and_odds` has 2 elements, both of which are themselves lists.\n",
        "\n",
        "Copy the list `evens_and_odds` into the cell below, and write a statement below it that prints the item at index 0!"
      ],
      "metadata": {
        "id": "3j4XODjgibp5"
      }
    },
    {
      "cell_type": "code",
      "source": [],
      "metadata": {
        "id": "UNMl1Bc-LlfV"
      },
      "execution_count": null,
      "outputs": []
    },
    {
      "cell_type": "markdown",
      "source": [
        "What if we wanted to grab an element from that list, say, the number 4? To do that, we would have to add a second index parameter to our print statement!\n",
        "\n",
        "`print(evens_and_odds[0][1])`\n",
        "\n",
        "The computer would understand this to mean:\n",
        "\n",
        "*In the list* `evens_and_odds`*, in the item at index 0, print the item at index 1.*\n",
        "\n",
        "Lists can be nested many layers deep. In the cell below, write a statement that prints the number 7 from `evens_and_odds`."
      ],
      "metadata": {
        "id": "vM_MuHMlkEGT"
      }
    },
    {
      "cell_type": "code",
      "source": [],
      "metadata": {
        "id": "kmlkD6zILmWt"
      },
      "execution_count": null,
      "outputs": []
    },
    {
      "cell_type": "markdown",
      "source": [
        "Let's return to our `letters` list. It is out of order, so let's rearrange it. In the cell below, run the command `letters.sort()` and print the results."
      ],
      "metadata": {
        "id": "QpsZ5u8LnGvf"
      }
    },
    {
      "cell_type": "code",
      "source": [],
      "metadata": {
        "id": "6AwC1UfwQ2Z9"
      },
      "execution_count": null,
      "outputs": []
    },
    {
      "cell_type": "markdown",
      "source": [
        "Much better.\n",
        "\n",
        "There are numerous other list methods available, including:\n",
        "\n",
        "`count()` --- counts the number of times an element appears\n",
        "\n",
        "*   *Example:* `letters.count('C')` --> 1\n",
        "\n",
        "`insert()` - inserts item at specified index, shifting subsequent elements over (this method takes two arguments: the first is the desired index, the second is the value to be inserted)\n",
        "\n",
        "*   *Example:* `letters.insert(1, 'X')` --> ['A', 'X', 'B', 'C', 'D', 'E']\n",
        "\n",
        "`pop()` --- removes and returns the item at the specified index\n",
        "\n",
        "*   *Example:* `letters.pop(0)` --> 'A'\n",
        "\n",
        "Try playing with these methods below!"
      ],
      "metadata": {
        "id": "y36-24NVnl0r"
      }
    },
    {
      "cell_type": "code",
      "source": [],
      "metadata": {
        "id": "8xEvCUscZyuR"
      },
      "execution_count": null,
      "outputs": []
    },
    {
      "cell_type": "markdown",
      "source": [
        "## **List Functions**\n",
        "\n",
        "In addition to methods, there are  a number of functions available for lists. Let's make a new list:\n",
        "\n",
        "`runs_scored = [3, 0, 5, 1, 1, 3, 2, 0]`\n",
        "\n",
        "Commonly used list functions include:\n",
        "\n",
        "`len()` --- returns the number of elements (length) of a list\n",
        "*   *Example:* `len(runs_scored)` --> 8\n",
        "\n",
        "`min()` --- returns the minimum value of a list\n",
        "*   *Example:* `min(runs_scored)` --> 0\n",
        "\n",
        "`max()` --- returns the maximum value of a list\n",
        "*   *Example:* `max(runs_scored)` --> 5\n",
        "\n",
        "Another useful one is the `range()` function, which returns a sequence of numbers in the range `start`---`stop`, incremented by the `step` value. (The `stop` value is not included in the returned sequence.)\n",
        "\n",
        "The syntax for the `range` function is `range(start, stop, step)`. As an example, `range(1,5,1)` would return 1,2,3,4---that is, the numbers from 1 to 5 (not including 5), counting by 1. By default, `start` is 0, and `step` is 1. If these values are not explicitly assigned, they are assumed to be the defaults.\n",
        "\n",
        "*   *Example:* `range(0, 5, 1)` --> 0, 1, 2, 3, 4\n",
        "*   *Example:* `range(2, 10, 2)` --> 2, 4, 6, 8\n",
        "*   *Example:* `range(4)` --> 0, 1, 2, 3 (`start` and `step` are implied)\n",
        "\n",
        "Try playing with these functions below! If you want to see the outputs as a list, you can use `list(range(...))`."
      ],
      "metadata": {
        "id": "QUNTrKCuqov9"
      }
    },
    {
      "cell_type": "code",
      "source": [],
      "metadata": {
        "id": "woVMxCuJikkD"
      },
      "execution_count": null,
      "outputs": []
    },
    {
      "cell_type": "markdown",
      "source": [
        "## **Conditionals**\n",
        "\n",
        "Another huge part of Python (and programming in general) is conditionals. Conditionals are if/then statements, and computers use them to make decisions. You can think of conditionals as:\n",
        "\n",
        "> *If A, do X. Otherwise, if B, do Y. Otherwise, do Z.*\n",
        "\n",
        "The syntax for them is (without the square brackets):\n",
        "\n",
        "```\n",
        "if [CONDITION 1]:\n",
        "  [DO SOMETHING]\n",
        "elif [CONDITION 2]:\n",
        "  [DO SOMETHING ELSE]\n",
        "else:\n",
        "  [DO SOMETHING ELSE]\n",
        "```\n",
        "\n",
        "Note that some of the lines are indented. Indentation is **CRITICAL** in Python. Without proper indentation, your program will not run! A good rule of thumb is that you indent any line following a colon, and continue to indent each subsequent line until that block of code is done. Let's look at a simple conditional:\n",
        "\n",
        "```\n",
        "x = 5\n",
        "\n",
        "if x > 5:\n",
        "  print('x is greater than 5.')\n",
        "elif x < 5:\n",
        "  print('x is less than 5.')\n",
        "else:\n",
        "  print('x is equal to 5.')\n",
        "```\n",
        "\n",
        "Starting with the `if` statement, conditionals check each block one at a time until they find a condition that is satisfied.\n",
        "\n",
        "Every conditional begins with an `if` statement. In this example, the conditional first checks whether `x` is greater than 5. It's not, but if it was, then the first print statement would execute and the conditional would end, ignoring any following lines. Since `x` is not greater than 5, however, the first print statement is skipped and the conditional continues onto the second block, the line that begins with `elif` (short for \"else if\").\n",
        "\n",
        "The conditional now checks whether `x` is less than 5. Once again, it's not, so the conditional will continue again, skipping the second print statement as well. (Note that a conditional can have multiple `elif` statements, and they are resolved in order.)\n",
        "\n",
        "Since neither of the first two conditions were met, the conditional moves onto the `else` block. An `else` is the section that executes if no other conditions are met (note that `elif` and `else` statements are not required in a conditional).\n",
        "\n",
        "In the cell below, create a variable `n`, and set it equal to 3. Then, write a conditional that does the following:\n",
        "\n",
        "> If `n` is less than 8, add 2 to `n` and print the new value. (*HINT:* you can add to the variable with either `n = n + 2` or `n += 2`)\n",
        "\n",
        "> Otherwise, if `n` is greater than 8, subtract 10 from `n` and print the new value. (*HINT:* you can subtract from the variable with either `n = n - 10` or `n -= 10`)\n",
        "\n",
        "> Lastly, if `n` equals 8, print the statement \"n equals 8\"\n",
        "\n",
        "Be sure to indent the lines following the `if`, `elif`, and `else` statements.\n",
        "\n",
        "Once your conditional is working, try setting `n` to different values to make sure all the conditions work.\n",
        "\n"
      ],
      "metadata": {
        "id": "c7onxiCZszXs"
      }
    },
    {
      "cell_type": "code",
      "source": [],
      "metadata": {
        "id": "efCtj_BdqTi5"
      },
      "execution_count": null,
      "outputs": []
    },
    {
      "cell_type": "markdown",
      "source": [
        "## **Loops**\n",
        "\n",
        "Loops are iterating statements---statements that continue to perform an operation until a certain condition is met.\n",
        "\n",
        "The most basic kind of loop is a `for` loop, a statement that does an operation for each item in a series (such as a list). Consider the following example:\n",
        "\n",
        "```\n",
        "number_list = [1, 2, 3, 4, 5, 6, 7, 8, 9, 10]\n",
        "squared_list = []\n",
        "\n",
        "for n in number_list:\n",
        "  squared_list.append(n ** 2)\n",
        "\n",
        "print(squared_list)\n",
        "```\n",
        "We begin with a list of numbers and another, empty list. The computer interprets the `for` loop like this:\n",
        "\n",
        "> *For each element in* `number_list`*, append to* `squared_list` *that value squared.*\n",
        "\n",
        "(Note that the variable `n` could be just about about any string, e.g. `item`, `num`, etc.---it's merely a placeholder that points to the current list element during each pass.)\n",
        "\n",
        "Once again, indentation is key. All lines in the `for` statement below the opening line must be indented in order for the code to run.\n",
        "\n",
        "In the cell below, create a list called `authors`, containing a few of your favorite authors' names. (Don't forget to enclose each name in quotes!)\n",
        "\n",
        "Then, write a `for` loop that prints each author's name individually.\n",
        "\n",
        "(You can also use a `for` loop to print letters of a string individually. Try making a variable called `name`, containing your name, and print each letter by itself. If you want a tougher challenge, try printing only the vowels from your name!)"
      ],
      "metadata": {
        "id": "T-5klwIA6xHm"
      }
    },
    {
      "cell_type": "code",
      "source": [],
      "metadata": {
        "id": "rvBaMRUFm9Q0"
      },
      "execution_count": null,
      "outputs": []
    },
    {
      "cell_type": "markdown",
      "source": [
        "## **While loops**\n",
        "\n",
        "Whereas `for` loops perform an operation for each item in a series, `while` loops perform an operation for as long as a condition is met. For example:\n",
        "\n",
        "```\n",
        "i = 1\n",
        "while i < 4:\n",
        "  print(i)\n",
        "  i += 1\n",
        "```\n",
        "\n",
        "The computer reads this as:\n",
        "\n",
        "> *For as long as* `i` *is less than 4, print* `i` *, then increase the value of* `i` *by 1 and repeat.*\n",
        "\n",
        "Step by step, the loop's execution works like this:\n",
        "\n",
        "1.   First, the loop checks if `i` is less than 4. It is, so the value of `i` is printed and `i` is increased from 1 to 2. We then return to the top of the loop.\n",
        "\n",
        "2.   `i` is evaluated again. It is still less than 4, so its value (which is now 2) is printed. Then `i` is increased to 3 and we return to the top again.\n",
        "\n",
        "3.   `i` is evaluated a third time. It is still less than 4, so it is printed and increased once again. We then return to the top one last time.\n",
        "\n",
        "4.   `i` is evaluated again. Since its value is now 4, the condition `i < 4` is no longer satisfied. Therefore, the loop ends. (Nothing gets printed in this final pass.)\n",
        "\n",
        "When writing a `while` loop, it is critical to give it a way to end. Otherwise, it becomes an \"infinite loop,\" which stalls the program and can cause crashes. Consider the previous `while` loop, if it did not have the incrementing line `x += 1` (***NOTE: Don't run this code!***):\n",
        "\n",
        "```\n",
        "i = 1\n",
        "while i < 4:\n",
        "  print(i)\n",
        "```\n",
        "\n",
        "If we were to execute this, the value of `i` would never increase, so it would always be less than 4 and the loop would continue forever!\n",
        "\n",
        "In the cell below, create a variable `x` and set it to 2. Then, write a `while` loop that prints `x` and multiplies it by 2, as long as `x` is less than 100. (*HINT:* If the console prints a number above 100, look carefully at the order in which your code is executing.)"
      ],
      "metadata": {
        "id": "SJh1RjSLHUYF"
      }
    },
    {
      "cell_type": "code",
      "source": [],
      "metadata": {
        "id": "WZrd-KSDvC0L"
      },
      "execution_count": null,
      "outputs": []
    },
    {
      "cell_type": "markdown",
      "source": [
        "## **Functions**\n",
        "\n",
        "Python knows how to do all kinds of things!\n",
        "\n",
        "\"Functions\" are blocks of code containing specific sets of instructions. Often, they take in 1 or more \"arguments,\" which are values for the function to operate on. We have actually used functions several times already---`print()`, `range()`, `min()`, etc.! These functions are inherent in Python, meaning the language innately knows how to do them.\n",
        "\n",
        "There are other inherent functions available, and you can create your own functions! The basic syntax for calling a function is:\n",
        "\n",
        "`function_name(argument)`\n",
        "\n",
        "When we run a `print` statement, we write the function name, `print`, followed by the argument (i.e. the thing we want printed) in parentheses. The argument could be a variable (e.g. `print(x)`), a string or number (e.g. `print('Hello world')`), or even another function!\n",
        "\n",
        "You can define (`def`) your own functions using the following syntax:\n",
        "\n",
        "```\n",
        "def function_name(argument):\n",
        "  [FUNCTION OPERATIONS]\n",
        "```\n",
        "\n",
        "For example, consider the function:\n",
        "\n",
        "```\n",
        "def hello(name):\n",
        "  print(\"Hello \" + name + \"! Nice to meet you!\")\n",
        "```\n",
        "\n",
        "This function is called `hello`, and it takes in an argument `name`. When called, it plugs the `name` value into the `print` statement. To call this function, the syntax would be `hello('yourname')`. (e.g. `hello('Stephen')`)\n",
        "\n",
        "Not all functions require an argument. If we were to write the `hello` function a little differently, we could make it do the same thing without passing in an argument:\n",
        "\n",
        "```\n",
        "def hello():\n",
        "  name = input(\"What is your name?\")\n",
        "  print(\"Hello \" + name + \"! Nice to meet you!\")\n",
        "```\n",
        "\n",
        "In this case, `name` is defined inside the function, rather than being passed in as an argument. (`input` is another inherent function, one that prompts the user to type something in.) To call this version of the function, the syntax would simply be `hello()`, because we aren't passing in any arguments. Note that parentheses are still necessary, even if no arguments are being passed in.\n",
        "\n",
        "In the cell below, try creating a function called `cubed`, which takes in a number `n` and prints the value of `n`, cubed.\n",
        "\n"
      ],
      "metadata": {
        "id": "WvqVvf4xQc9-"
      }
    },
    {
      "cell_type": "code",
      "source": [],
      "metadata": {
        "id": "zqmvuBLdVGWO"
      },
      "execution_count": null,
      "outputs": []
    },
    {
      "cell_type": "markdown",
      "source": [
        "## **`print` vs. `return`**\n",
        "\n",
        "When working with functions, you will often see the keyword `return`. This is another inherent function, and it is different than `print`. `print` merely displays a value; you can't manipulate that value in any way.\n",
        "\n",
        "If you want a function to hand back a value to be operated on -- say to save it to a variable -- you need a `return` statement. Consider the following example:\n",
        "\n",
        "```\n",
        "def half(num):\n",
        "  return(num / 2)\n",
        "\n",
        "def squared(num):\n",
        "  return(num ** 2)\n",
        "\n",
        "x = half(10)\n",
        "y = squared(x)\n",
        "\n",
        "print(y)\n",
        "```\n",
        "\n",
        "Here, we have 2 functions. The first takes in a number and returns that number, divided by 2. The second function takes in a number and returns that number, squared. When the variable `x` is created, its value is set to the output of the `half` function, with an argument of 10 (that is 10/2, or 5).\n",
        "\n",
        "Then, that value is passed into the `squared` function, to be operated on. The output of that function is saved to the variable `y`.\n",
        "\n",
        "If we used `print` instead of `return` in these functions, the code would throw an error, because no values would be handed back when the functions are run.\n",
        "\n",
        "(If you want to get fancy, you can make a nested function call! To do this, you could use the command `squared(half(10))`. This statement calls the `squared` function, using the output of the `half` function with a value of 10 as its argument.)\n",
        "\n",
        "As soon as a function reaches a `return` statement, it will stop executing. Any function code beyond the `return` is ignored.\n",
        "\n",
        "In the cell below, write a function that takes in an integer argument, adds 3 to that number, and returns the resulting value, divided by 5.\n",
        "\n",
        "> (*NOTE:* When using Jupyter/Colab notebooks, `return` statements generally print their values as a convenience to the user. In offline environments like IDLE or Anaconda, however, `return` statements typically don't print anything.)\n"
      ],
      "metadata": {
        "id": "CDjZ2QUvoCKZ"
      }
    },
    {
      "cell_type": "code",
      "source": [],
      "metadata": {
        "id": "aK-PsFupy37m"
      },
      "execution_count": null,
      "outputs": []
    },
    {
      "cell_type": "markdown",
      "source": [
        "Great job! Take a deep breath. If you have made it this far, you are well on your way to learning Python. In the cells below, try playing around with the concepts you've learned! If you want some specific challenges:\n",
        "\n",
        "> Try sorting the list `[5,4,10,5,2,7,1,9,10]`, and then printing only the even numbers from it. (*HINT:* You may need the modulo operator (`%`) for this.)\n",
        "\n",
        "> Write a `print` statement that prints just the 6 from the list `[1,2,3,[4,5,[6,7]]]`\n",
        "\n",
        "> Write a function that takes in an integer argument. If the integer is greater than 0, print 'positive'. Otherwise, if it is less than 0, print 'negative'. Lastly, if the integer is 0, print 'zero'. Then, call the function with different numbers to make sure it works. (*NOTE:* You may need to indent twice on some lines.)\n",
        "\n",
        "> Create a list `groceries`, which contains the elements `'apples'`, `'bananas'`, and `'milk'`. Then, append `'eggs'` to the end of the list and insert `'bacon'` at index 0."
      ],
      "metadata": {
        "id": "fdnD07-qcBA-"
      }
    },
    {
      "cell_type": "code",
      "source": [],
      "metadata": {
        "id": "ZYzpjT7ucb3X"
      },
      "execution_count": null,
      "outputs": []
    },
    {
      "cell_type": "code",
      "source": [],
      "metadata": {
        "id": "0xWjzz8Ecb0m"
      },
      "execution_count": null,
      "outputs": []
    },
    {
      "cell_type": "code",
      "source": [],
      "metadata": {
        "id": "fHEWxNlRcbxU"
      },
      "execution_count": null,
      "outputs": []
    },
    {
      "cell_type": "code",
      "source": [],
      "metadata": {
        "id": "Qhoow9y2cbuH"
      },
      "execution_count": null,
      "outputs": []
    },
    {
      "cell_type": "code",
      "source": [],
      "metadata": {
        "id": "051iIxdxcbpq"
      },
      "execution_count": null,
      "outputs": []
    },
    {
      "cell_type": "code",
      "source": [],
      "metadata": {
        "id": "gpOu_bWbcbjf"
      },
      "execution_count": null,
      "outputs": []
    },
    {
      "cell_type": "code",
      "source": [],
      "metadata": {
        "id": "1PFFlB6gcbZG"
      },
      "execution_count": null,
      "outputs": []
    }
  ]
}