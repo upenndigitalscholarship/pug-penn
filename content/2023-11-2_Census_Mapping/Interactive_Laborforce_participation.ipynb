{
  "nbformat": 4,
  "nbformat_minor": 0,
  "metadata": {
    "kernelspec": {
      "display_name": "Python 3",
      "language": "python",
      "name": "python3"
    },
    "language_info": {
      "codemirror_mode": {
        "name": "ipython",
        "version": 3
      },
      "file_extension": ".py",
      "mimetype": "text/x-python",
      "name": "python",
      "nbconvert_exporter": "python",
      "pygments_lexer": "ipython3",
      "version": "3.7.6"
    },
    "colab": {
      "provenance": [],
      "include_colab_link": true
    }
  },
  "cells": [
    {
      "cell_type": "markdown",
      "metadata": {
        "id": "view-in-github",
        "colab_type": "text"
      },
      "source": [
        "<a href=\"https://colab.research.google.com/github/benliebersohn/alg-ds-lab2/blob/master/Interactive_Laborforce_participation.ipynb\" target=\"_parent\"><img src=\"https://colab.research.google.com/assets/colab-badge.svg\" alt=\"Open In Colab\"/></a>"
      ]
    },
    {
      "cell_type": "markdown",
      "metadata": {
        "id": "zUAIgWz7uxuS"
      },
      "source": [
        "# Interactive Laborforce Participation Rate Map\n",
        "\n",
        "## Goals:\n",
        "### 1. Demonstrate how to use Python to map US Census Bureau data\n",
        "\n",
        "*   Provide informative links, data, and template style code for you to refer to.\n",
        "\n",
        "### 2. Identify a meaningful metric you can model and visualize\n",
        "\n",
        "*   Laborforce participation can be derived from a simple model.\n",
        "*   This is sometimes an overlooked metric that can be critical to reenrolling discouraged workers into the workforce. Addressing this topic is central in political policy debates. The importance of laborforce participation has been made especially prominent by standing labor shortages since the global Covid-19 pandemic began.\n",
        "\n",
        "### 3. Visualize the data and export webmaps\n",
        "*   This python notebook uses data provided by the US Census Bureau to make interactive maps using Python. This notebook can be a resource for exploratory work with US Census data, both in its unmodified state and after doing some modifications. This is very useful if you are planning to do advanced modelling, or just want to visually display a table.\n",
        "\n",
        "\n",
        "\n",
        "This notebook was written by Ben Liebersohn in 2021 for the Cyber GIS Center RIF meeting, 10/25/2021\n",
        "\n",
        "The function to set up Bokeh is by Dr. Ziqi Li. It allows us to use Bokeh for mapping purposes."
      ]
    },
    {
      "cell_type": "markdown",
      "metadata": {
        "id": "2gSVo_-NfL5S"
      },
      "source": [
        "### Some useful and practical python skills/topics\n",
        "\n",
        "- [Using `censusdata` library to pull ACS data](#census)\n",
        "- [Geocoding using `geopandas`](#geocoding)\n",
        "- [Spatial join using `geopandas` (e.g. point-in-polygon)](#sj)\n",
        "- [Interactive map with `bokeh`](#bokeh)\n",
        "\n",
        "\n",
        "\n",
        "Further resources:\n",
        "\n",
        "`censusdata`: https://jtleider.github.io/censusdata/\n",
        "\n",
        "`geopandas` geocoding: https://automating-gis-processes.github.io/CSC18/lessons/L3/geocoding.html\n",
        "\n",
        "`geopandas` spatial join: https://geopandas.org/mergingdata.html\n",
        "\n",
        "`bokeh` example: https://docs.bokeh.org/en/latest/docs/gallery/texas.html"
      ]
    },
    {
      "cell_type": "markdown",
      "metadata": {
        "id": "RmTTdVsk6eX8"
      },
      "source": [
        "Download shapefile for the US counties from TIGER/Shapefile website, or for this one (cb_2018_us_county_20m.zip), download it here: https://drive.google.com/file/d/1Mv6f4SeVEk75-K1fRRheFXEAh94U_y0f/view?usp=sharing"
      ]
    },
    {
      "cell_type": "code",
      "metadata": {
        "colab": {
          "base_uri": "https://localhost:8080/"
        },
        "id": "GkKPt_bCgdP2",
        "outputId": "e5be2746-19f3-4238-b55a-81b6e9c02329"
      },
      "source": [
        "!unzip cb_2018_us_county_20m.zip\n",
        "# This extracts our compressed folder. If it \"cannot find or open\" then you need to upload the zip file\n",
        "# Notice all the output, this is useful for understanding what is happening"
      ],
      "execution_count": 1,
      "outputs": [
        {
          "output_type": "stream",
          "name": "stdout",
          "text": [
            "unzip:  cannot find or open cb_2018_us_county_20m.zip, cb_2018_us_county_20m.zip.zip or cb_2018_us_county_20m.zip.ZIP.\n"
          ]
        }
      ]
    },
    {
      "cell_type": "code",
      "metadata": {
        "colab": {
          "base_uri": "https://localhost:8080/"
        },
        "id": "GdubIW_2epNL",
        "outputId": "23b21ba4-fef9-48bd-abf5-d01c9088d8dd"
      },
      "source": [
        "!apt-get install -y python-rtree; #Semicolon at the end suppresses the output when installing the rtree library"
      ],
      "execution_count": 2,
      "outputs": [
        {
          "output_type": "stream",
          "name": "stdout",
          "text": [
            "Reading package lists... Done\n",
            "Building dependency tree... Done\n",
            "Reading state information... Done\n",
            "E: Unable to locate package python-rtree\n"
          ]
        }
      ]
    },
    {
      "cell_type": "code",
      "metadata": {
        "id": "bmkhUc6Gehfw",
        "colab": {
          "base_uri": "https://localhost:8080/"
        },
        "outputId": "282d1aec-c44c-4b65-f1f6-03b1e689bdef"
      },
      "source": [
        "!pip install pygeos #We install some libraries with the tool called \"pip\"\n",
        "!pip install geopandas; #semicolon suppressed output\n",
        "# If you want to learn more about these libraries, Google search \"Pygeos\" or \"geopandas\""
      ],
      "execution_count": 3,
      "outputs": [
        {
          "output_type": "stream",
          "name": "stdout",
          "text": [
            "Collecting pygeos\n",
            "  Downloading pygeos-0.14-cp310-cp310-manylinux_2_17_x86_64.manylinux2014_x86_64.whl (2.2 MB)\n",
            "\u001b[2K     \u001b[90m━━━━━━━━━━━━━━━━━━━━━━━━━━━━━━━━━━━━━━━━\u001b[0m \u001b[32m2.2/2.2 MB\u001b[0m \u001b[31m6.6 MB/s\u001b[0m eta \u001b[36m0:00:00\u001b[0m\n",
            "\u001b[?25hRequirement already satisfied: numpy>=1.13 in /usr/local/lib/python3.10/dist-packages (from pygeos) (1.23.5)\n",
            "Installing collected packages: pygeos\n",
            "Successfully installed pygeos-0.14\n",
            "Requirement already satisfied: geopandas in /usr/local/lib/python3.10/dist-packages (0.13.2)\n",
            "Requirement already satisfied: fiona>=1.8.19 in /usr/local/lib/python3.10/dist-packages (from geopandas) (1.9.5)\n",
            "Requirement already satisfied: packaging in /usr/local/lib/python3.10/dist-packages (from geopandas) (23.2)\n",
            "Requirement already satisfied: pandas>=1.1.0 in /usr/local/lib/python3.10/dist-packages (from geopandas) (1.5.3)\n",
            "Requirement already satisfied: pyproj>=3.0.1 in /usr/local/lib/python3.10/dist-packages (from geopandas) (3.6.1)\n",
            "Requirement already satisfied: shapely>=1.7.1 in /usr/local/lib/python3.10/dist-packages (from geopandas) (2.0.2)\n",
            "Requirement already satisfied: attrs>=19.2.0 in /usr/local/lib/python3.10/dist-packages (from fiona>=1.8.19->geopandas) (23.1.0)\n",
            "Requirement already satisfied: certifi in /usr/local/lib/python3.10/dist-packages (from fiona>=1.8.19->geopandas) (2023.7.22)\n",
            "Requirement already satisfied: click~=8.0 in /usr/local/lib/python3.10/dist-packages (from fiona>=1.8.19->geopandas) (8.1.7)\n",
            "Requirement already satisfied: click-plugins>=1.0 in /usr/local/lib/python3.10/dist-packages (from fiona>=1.8.19->geopandas) (1.1.1)\n",
            "Requirement already satisfied: cligj>=0.5 in /usr/local/lib/python3.10/dist-packages (from fiona>=1.8.19->geopandas) (0.7.2)\n",
            "Requirement already satisfied: six in /usr/local/lib/python3.10/dist-packages (from fiona>=1.8.19->geopandas) (1.16.0)\n",
            "Requirement already satisfied: setuptools in /usr/local/lib/python3.10/dist-packages (from fiona>=1.8.19->geopandas) (67.7.2)\n",
            "Requirement already satisfied: python-dateutil>=2.8.1 in /usr/local/lib/python3.10/dist-packages (from pandas>=1.1.0->geopandas) (2.8.2)\n",
            "Requirement already satisfied: pytz>=2020.1 in /usr/local/lib/python3.10/dist-packages (from pandas>=1.1.0->geopandas) (2023.3.post1)\n",
            "Requirement already satisfied: numpy>=1.21.0 in /usr/local/lib/python3.10/dist-packages (from pandas>=1.1.0->geopandas) (1.23.5)\n"
          ]
        }
      ]
    },
    {
      "cell_type": "code",
      "metadata": {
        "id": "2dTjxx8ZfL5T",
        "colab": {
          "base_uri": "https://localhost:8080/"
        },
        "outputId": "704b2207-a4cb-45a5-89fa-78f39435c53b"
      },
      "source": [
        "import pygeos # Now that we installed pygeos, we still need to import them\n",
        "import pandas as pd # by using the shorter names we save some time later on\n",
        "import numpy as np # instead of calling it numpy we call it np\n",
        "import geopandas as gpd # even though we are calling it gpd it is still widely known as \"geopandas\""
      ],
      "execution_count": 4,
      "outputs": [
        {
          "output_type": "stream",
          "name": "stderr",
          "text": [
            "/usr/local/lib/python3.10/dist-packages/geopandas/_compat.py:124: UserWarning: The Shapely GEOS version (3.11.2-CAPI-1.17.2) is incompatible with the GEOS version PyGEOS was compiled with (3.10.4-CAPI-1.16.2). Conversions between both will be slow.\n",
            "  warnings.warn(\n",
            "<ipython-input-4-14c62f28b034>:4: DeprecationWarning: Shapely 2.0 is installed, but because PyGEOS is also installed, GeoPandas still uses PyGEOS by default. However, starting with version 0.14, the default will switch to Shapely. To force to use Shapely 2.0 now, you can either uninstall PyGEOS or set the environment variable USE_PYGEOS=0. You can do this before starting the Python process, or in your code before importing geopandas:\n",
            "\n",
            "import os\n",
            "os.environ['USE_PYGEOS'] = '0'\n",
            "import geopandas\n",
            "\n",
            "In the next release, GeoPandas will switch to using Shapely by default, even if PyGEOS is installed. If you only have PyGEOS installed to get speed-ups, this switch should be smooth. However, if you are using PyGEOS directly (calling PyGEOS functions on geometries from GeoPandas), this will then stop working and you are encouraged to migrate from PyGEOS to Shapely 2.0 (https://shapely.readthedocs.io/en/latest/migration_pygeos.html).\n",
            "  import geopandas as gpd # even though we are calling it gpd it is still widely known as \"geopandas\"\n"
          ]
        }
      ]
    },
    {
      "cell_type": "markdown",
      "metadata": {
        "id": "cPv2axFLfL5T"
      },
      "source": [
        "<a id='census'></a>\n",
        "### Census API\n"
      ]
    },
    {
      "cell_type": "code",
      "metadata": {
        "id": "bkTqkhjHfL5T",
        "colab": {
          "base_uri": "https://localhost:8080/"
        },
        "outputId": "735e8b49-9138-4eeb-a5e8-1f8b76eab4b0"
      },
      "source": [
        "!pip install censusdata # We install and import the censusdata library\n",
        "import censusdata # This library loads census data for us, so we don't need to go to the US Census Bureau website"
      ],
      "execution_count": 5,
      "outputs": [
        {
          "output_type": "stream",
          "name": "stdout",
          "text": [
            "Collecting censusdata\n",
            "  Downloading CensusData-1.15.post1.tar.gz (26.6 MB)\n",
            "\u001b[2K     \u001b[90m━━━━━━━━━━━━━━━━━━━━━━━━━━━━━━━━━━━━━━━━\u001b[0m \u001b[32m26.6/26.6 MB\u001b[0m \u001b[31m3.4 MB/s\u001b[0m eta \u001b[36m0:00:00\u001b[0m\n",
            "\u001b[?25h  Preparing metadata (setup.py) ... \u001b[?25l\u001b[?25hdone\n",
            "Requirement already satisfied: pandas in /usr/local/lib/python3.10/dist-packages (from censusdata) (1.5.3)\n",
            "Requirement already satisfied: requests in /usr/local/lib/python3.10/dist-packages (from censusdata) (2.31.0)\n",
            "Requirement already satisfied: python-dateutil>=2.8.1 in /usr/local/lib/python3.10/dist-packages (from pandas->censusdata) (2.8.2)\n",
            "Requirement already satisfied: pytz>=2020.1 in /usr/local/lib/python3.10/dist-packages (from pandas->censusdata) (2023.3.post1)\n",
            "Requirement already satisfied: numpy>=1.21.0 in /usr/local/lib/python3.10/dist-packages (from pandas->censusdata) (1.23.5)\n",
            "Requirement already satisfied: charset-normalizer<4,>=2 in /usr/local/lib/python3.10/dist-packages (from requests->censusdata) (3.3.1)\n",
            "Requirement already satisfied: idna<4,>=2.5 in /usr/local/lib/python3.10/dist-packages (from requests->censusdata) (3.4)\n",
            "Requirement already satisfied: urllib3<3,>=1.21.1 in /usr/local/lib/python3.10/dist-packages (from requests->censusdata) (2.0.7)\n",
            "Requirement already satisfied: certifi>=2017.4.17 in /usr/local/lib/python3.10/dist-packages (from requests->censusdata) (2023.7.22)\n",
            "Requirement already satisfied: six>=1.5 in /usr/local/lib/python3.10/dist-packages (from python-dateutil>=2.8.1->pandas->censusdata) (1.16.0)\n",
            "Building wheels for collected packages: censusdata\n",
            "  Building wheel for censusdata (setup.py) ... \u001b[?25l\u001b[?25hdone\n",
            "  Created wheel for censusdata: filename=CensusData-1.15.post1-py3-none-any.whl size=28205746 sha256=3c53161ca20f2e0e1151f4fe30a2fef851b4c7834f67e604a066e036e8c0fc53\n",
            "  Stored in directory: /root/.cache/pip/wheels/40/0a/09/c996fa9cc686a1efb90426ce5fbaac1e2e0d7e0efbb3939a85\n",
            "Successfully built censusdata\n",
            "Installing collected packages: censusdata\n",
            "Successfully installed censusdata-1.15.post1\n"
          ]
        }
      ]
    },
    {
      "cell_type": "code",
      "metadata": {
        "colab": {
          "base_uri": "https://localhost:8080/"
        },
        "id": "5nlnFm6yBU9u",
        "outputId": "aa919ad2-ee71-4e34-99a0-c451029ebf9e"
      },
      "source": [
        "censusdata.printtable(censusdata.censustable('acs5', 2018, 'B28007')) # 2018 ACS 5 YEAR: LABOR FORCE STATUS BY PRESENCE OF A COMPUTER AND TYPES OF INTERNET SUBSCRIPTION IN HOUSEHOLD"
      ],
      "execution_count": 6,
      "outputs": [
        {
          "output_type": "stream",
          "name": "stdout",
          "text": [
            "Variable     | Table                          | Label                                                    | Type \n",
            "-------------------------------------------------------------------------------------------------------------------\n",
            "B28007_001E  | LABOR FORCE STATUS BY PRESENCE | !! Estimate Total                                        | int  \n",
            "B28007_002E  | LABOR FORCE STATUS BY PRESENCE | !! !! Estimate Total In the civilian labor force         | int  \n",
            "B28007_003E  | LABOR FORCE STATUS BY PRESENCE | !! !! !! Estimate Total In the civilian labor force Empl | int  \n",
            "B28007_004E  | LABOR FORCE STATUS BY PRESENCE | !! !! !! !! Estimate Total In the civilian labor force E | int  \n",
            "B28007_005E  | LABOR FORCE STATUS BY PRESENCE | !! !! !! !! !! Estimate Total In the civilian labor forc | int  \n",
            "B28007_006E  | LABOR FORCE STATUS BY PRESENCE | !! !! !! !! !! Estimate Total In the civilian labor forc | int  \n",
            "B28007_007E  | LABOR FORCE STATUS BY PRESENCE | !! !! !! !! !! Estimate Total In the civilian labor forc | int  \n",
            "B28007_008E  | LABOR FORCE STATUS BY PRESENCE | !! !! !! !! Estimate Total In the civilian labor force E | int  \n",
            "B28007_009E  | LABOR FORCE STATUS BY PRESENCE | !! !! !! Estimate Total In the civilian labor force Unem | int  \n",
            "B28007_010E  | LABOR FORCE STATUS BY PRESENCE | !! !! !! !! Estimate Total In the civilian labor force U | int  \n",
            "B28007_011E  | LABOR FORCE STATUS BY PRESENCE | !! !! !! !! !! Estimate Total In the civilian labor forc | int  \n",
            "B28007_012E  | LABOR FORCE STATUS BY PRESENCE | !! !! !! !! !! Estimate Total In the civilian labor forc | int  \n",
            "B28007_013E  | LABOR FORCE STATUS BY PRESENCE | !! !! !! !! !! Estimate Total In the civilian labor forc | int  \n",
            "B28007_014E  | LABOR FORCE STATUS BY PRESENCE | !! !! !! !! Estimate Total In the civilian labor force U | int  \n",
            "B28007_015E  | LABOR FORCE STATUS BY PRESENCE | !! !! Estimate Total Not in labor force                  | int  \n",
            "B28007_016E  | LABOR FORCE STATUS BY PRESENCE | !! !! !! Estimate Total Not in labor force Has a compute | int  \n",
            "B28007_017E  | LABOR FORCE STATUS BY PRESENCE | !! !! !! !! Estimate Total Not in labor force Has a comp | int  \n",
            "B28007_018E  | LABOR FORCE STATUS BY PRESENCE | !! !! !! !! Estimate Total Not in labor force Has a comp | int  \n",
            "B28007_019E  | LABOR FORCE STATUS BY PRESENCE | !! !! !! !! Estimate Total Not in labor force Has a comp | int  \n",
            "B28007_020E  | LABOR FORCE STATUS BY PRESENCE | !! !! !! Estimate Total Not in labor force No computer   | int  \n",
            "-------------------------------------------------------------------------------------------------------------------\n"
          ]
        }
      ]
    },
    {
      "cell_type": "code",
      "metadata": {
        "id": "YzYh-UaUfL5T"
      },
      "source": [
        "labor = censusdata.download('acs5', 2018,\n",
        "           censusdata.censusgeo([('state', '17'),  # STATE is Illinois\n",
        "                                 ('county', '*')]), # All Counties in Illinois\n",
        "                                 ['B28007_001E','B28007_002E','B28007_006E','B28007_012E','B28007_018E'])\n",
        "\n",
        "labor.columns = ['total','total_in_laborforce','employed_w_broadband','unemployed_w_broadband','not_laborforce_w_broadband']\n",
        "\n",
        "# B28007_006E == EMPLOYED WITH BROADBAND\n",
        "# B28007_012E == UNEMPLOYED WITH BROADBAND\n",
        "# B28007_018E == NOT IN LABOR FORCE WITH BROADBAND"
      ],
      "execution_count": null,
      "outputs": []
    },
    {
      "cell_type": "code",
      "metadata": {
        "id": "fody3VJnIejt"
      },
      "source": [
        "labor"
      ],
      "execution_count": null,
      "outputs": []
    },
    {
      "cell_type": "code",
      "metadata": {
        "id": "CIOe_dADfL5U"
      },
      "source": [
        "# Declaring a new list as a column: pct_in_laborforce = 100*(total_in_laborforce/total)\n",
        "# Example: IF total pop = 20, total_in_laborforce = 10, THEN pct_in_laborforce = 50\n",
        "pct_in_laborforce = 100*(labor.total_in_laborforce.divide(labor.total))\n",
        "labor['pct_in_laborforce'] = pct_in_laborforce"
      ],
      "execution_count": null,
      "outputs": []
    },
    {
      "cell_type": "code",
      "metadata": {
        "id": "mr38TOh8fL5U"
      },
      "source": [
        "censusdata.export.exportcsv(\"labor.csv\", labor)\n",
        "labor = pd.read_csv(\"labor.csv\")"
      ],
      "execution_count": null,
      "outputs": []
    },
    {
      "cell_type": "code",
      "metadata": {
        "id": "rtrfkh-dE7kh"
      },
      "source": [
        "labor.head()"
      ],
      "execution_count": null,
      "outputs": []
    },
    {
      "cell_type": "code",
      "metadata": {
        "id": "tAtG_Zk5MxLN"
      },
      "source": [
        "labor[\"GEOID\"]= (labor['state'].astype(str).str.zfill(2) + labor['county'].astype(str).str.zfill(3)).astype(int)"
      ],
      "execution_count": null,
      "outputs": []
    },
    {
      "cell_type": "code",
      "metadata": {
        "id": "LDg8_gWQfL5U"
      },
      "source": [
        "# Read in shapefile, and convert TRACTCE to type INT\n",
        "counties = gpd.read_file(\"/content/cb_2018_us_county_20m/cb_2018_us_county_20m.shp\")\n",
        "counties[\"GEOID_int\"] = counties.GEOID.astype(int)\n",
        "# Drop non-IL data from the map\n",
        "#counties.drop('STATEFP'=='17')"
      ],
      "execution_count": null,
      "outputs": []
    },
    {
      "cell_type": "code",
      "metadata": {
        "id": "Wfepw38VHmM0"
      },
      "source": [
        "counties.head()"
      ],
      "execution_count": null,
      "outputs": []
    },
    {
      "cell_type": "code",
      "metadata": {
        "id": "ZVedcOadMebm"
      },
      "source": [
        "counties[\"GEOID_int\"] = counties.GEOID.astype(int)"
      ],
      "execution_count": null,
      "outputs": []
    },
    {
      "cell_type": "code",
      "metadata": {
        "id": "UavpbRzCfL5U"
      },
      "source": [
        "# Join US Counties shapefile with the workforce data\n",
        "labor_county_merged = gpd.GeoDataFrame(pd.merge(labor,counties,how=\"left\",left_on=\"GEOID\",right_on='GEOID_int'))\n",
        "\n",
        "#labor_county_map = gpd.GeoDataFrame(pd.merge(labor,counties,how=\"left\",left_on=\"county\",right_on=\"COUNTYFP\"))"
      ],
      "execution_count": null,
      "outputs": []
    },
    {
      "cell_type": "code",
      "metadata": {
        "id": "DcOr3uEqEkqG"
      },
      "source": [
        "labor_county_merged"
      ],
      "execution_count": null,
      "outputs": []
    },
    {
      "cell_type": "code",
      "metadata": {
        "id": "R9TLrmnWJK1G"
      },
      "source": [
        "labor_county_merged.plot(column=\"pct_in_laborforce\",legend=True)"
      ],
      "execution_count": null,
      "outputs": []
    },
    {
      "cell_type": "code",
      "metadata": {
        "id": "Btno__nhm_ME"
      },
      "source": [
        "#exporting to shapefile for more analysis with ArcGIS Pro\n",
        "labor_county_map.to_file(\"labor_county_map.shp\")"
      ],
      "execution_count": null,
      "outputs": []
    },
    {
      "cell_type": "markdown",
      "metadata": {
        "id": "FKGH1GDsfL5n"
      },
      "source": [
        "<a id='bokeh'></a>\n",
        "### Interactive mapping\n"
      ]
    },
    {
      "cell_type": "code",
      "metadata": {
        "id": "QVkMexy0fL5p"
      },
      "source": [
        "#We use an awesome package called bokeh (I love this package!)\n",
        "\n",
        "from bokeh.io import output_file, show,output_notebook\n",
        "from bokeh.models import ColumnDataSource,ColorBar,HoverTool\n",
        "from bokeh.transform import linear_cmap\n",
        "from bokeh.plotting import figure\n",
        "from bokeh.palettes import Spectral6 #https://docs.bokeh.org/en/latest/docs/reference/palettes.html"
      ],
      "execution_count": null,
      "outputs": []
    },
    {
      "cell_type": "code",
      "metadata": {
        "id": "WzonlXcjfL5q"
      },
      "source": [
        "#To make your map be outputted inline\n",
        "output_notebook()"
      ],
      "execution_count": null,
      "outputs": []
    },
    {
      "cell_type": "code",
      "metadata": {
        "id": "OZHiNE4AfL5r"
      },
      "source": [
        "#Don't change this!!!\n",
        "#Just copy this whole cell.\n",
        "#This is a helper function for converting a GeoDataFrame to the format that bokeh can recognize.\n",
        "\n",
        "def gpd_bokeh(df):\n",
        "    \"\"\"Convert geometries from geopandas to bokeh format\"\"\"\n",
        "    nan = float('nan')\n",
        "    lons = []\n",
        "    lats = []\n",
        "    for i,shape in enumerate(df.geometry.values):\n",
        "        if shape.geom_type == 'MultiPolygon':\n",
        "            gx = []\n",
        "            gy = []\n",
        "            ng = len(shape.geoms) - 1\n",
        "            for j,member in enumerate(shape.geoms):\n",
        "                xy = np.array(list(member.exterior.coords))\n",
        "                xs = xy[:,0].tolist()\n",
        "                ys = xy[:,1].tolist()\n",
        "                gx.extend(xs)\n",
        "                gy.extend(ys)\n",
        "                if j < ng:\n",
        "                    gx.append(nan)\n",
        "                    gy.append(nan)\n",
        "            lons.append(gx)\n",
        "            lats.append(gy)\n",
        "\n",
        "        else:\n",
        "            xy = np.array(list(shape.exterior.coords))\n",
        "            xs = xy[:,0].tolist()\n",
        "            ys = xy[:,1].tolist()\n",
        "            lons.append(xs)\n",
        "            lats.append(ys)\n",
        "\n",
        "    return lons,lats"
      ],
      "execution_count": null,
      "outputs": []
    },
    {
      "cell_type": "code",
      "metadata": {
        "id": "xlORVEtCfL5s"
      },
      "source": [
        "#Feed in the data for bokeh\n",
        "\n",
        "lons, lats = gpd_bokeh(labor_county_merged)\n",
        "\n",
        "source = ColumnDataSource(data=dict( #specify the x, y coordinates, and the data we want to put in to the map\n",
        "        x=lons,\n",
        "        y=lats,\n",
        "        name = labor_county_merged['NAME_x'], #Add any columns you want to bokeh. NAME_x is the county name\n",
        "        population = labor_county_merged['total'],\n",
        "        pct_in_laborforce = labor_county_merged['pct_in_laborforce'])) #pct_bach is the percentage of residents with a bachelors degree"
      ],
      "execution_count": null,
      "outputs": []
    },
    {
      "cell_type": "code",
      "metadata": {
        "id": "g0Rj_L0RfL5t"
      },
      "source": [
        "#Create a color map\n",
        "color_mapper = linear_cmap(field_name='pct_in_laborforce', #the field to map\n",
        "                           palette=Spectral6, #the color to use\n",
        "                           low=min(labor_county_merged['pct_in_laborforce']) , # The low and high bounds for your color map\n",
        "                           high=max(labor_county_merged['pct_in_laborforce']))\n"
      ],
      "execution_count": null,
      "outputs": []
    },
    {
      "cell_type": "code",
      "metadata": {
        "id": "aGYDd53cfL5t"
      },
      "source": [
        "#Add tools you want\n",
        "TOOLS = \"pan,wheel_zoom,reset,hover,save\""
      ],
      "execution_count": null,
      "outputs": []
    },
    {
      "cell_type": "code",
      "metadata": {
        "id": "wO8ilqONfL5t"
      },
      "source": [
        "#Create a plot frame with size and title\n",
        "map = figure(plot_width=500, plot_height=660,title=\"Illinois Laborforce Participation Rate by County, 2018 ACS 5 Year Estimate\", tools=TOOLS)\n",
        "\n",
        "#Add the polygon patches\n",
        "map.patches('x', 'y', source=source, line_color=\"white\", line_width=0.1, color=color_mapper)\n",
        "\n",
        "#Add the hover tool and the hover field to display\n",
        "map.select_one(HoverTool).tooltips = [\n",
        "    ('County Name', '@name'), #each tuple needs to follow this format.\n",
        "    ('Population', '@population'),\n",
        "    ('% Laborforce Participation', '@pct_in_laborforce')\n",
        "]\n",
        "\n",
        "#Add your colorbar\n",
        "color_bar = ColorBar(color_mapper=color_mapper['transform'], width=16, location=(0,0))\n",
        "map.add_layout(color_bar, 'right')"
      ],
      "execution_count": null,
      "outputs": []
    },
    {
      "cell_type": "code",
      "metadata": {
        "id": "sM2Kb-P0fL5t"
      },
      "source": [
        "#Show the map\n",
        "show(map)"
      ],
      "execution_count": null,
      "outputs": []
    },
    {
      "cell_type": "code",
      "metadata": {
        "id": "TC8y1q99fL5t"
      },
      "source": [
        "#You can export your map to a html file.\n",
        "output_file(\"laborforce_participation.html\")"
      ],
      "execution_count": null,
      "outputs": []
    },
    {
      "cell_type": "code",
      "metadata": {
        "id": "0HBZSj6aJrFA"
      },
      "source": [],
      "execution_count": null,
      "outputs": []
    }
  ]
}