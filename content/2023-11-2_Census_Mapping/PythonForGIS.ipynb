{
  "nbformat": 4,
  "nbformat_minor": 0,
  "metadata": {
    "kernelspec": {
      "display_name": "Python 3",
      "language": "python",
      "name": "python3"
    },
    "language_info": {
      "codemirror_mode": {
        "name": "ipython",
        "version": 3
      },
      "file_extension": ".py",
      "mimetype": "text/x-python",
      "name": "python",
      "nbconvert_exporter": "python",
      "pygments_lexer": "ipython3",
      "version": "3.7.6"
    },
    "colab": {
      "provenance": [],
      "toc_visible": true,
      "include_colab_link": true
    }
  },
  "cells": [
    {
      "cell_type": "markdown",
      "metadata": {
        "id": "view-in-github",
        "colab_type": "text"
      },
      "source": [
        "<a href=\"https://colab.research.google.com/github/benliebersohn/alg-ds-lab2/blob/master/PythonForGIS.ipynb\" target=\"_parent\"><img src=\"https://colab.research.google.com/assets/colab-badge.svg\" alt=\"Open In Colab\"/></a>"
      ]
    },
    {
      "cell_type": "markdown",
      "metadata": {
        "id": "2gSVo_-NfL5S"
      },
      "source": [
        "### Some useful and practical python skills/topics\n",
        "\n",
        "- [Using `censusdata` library to pull ACS data](#census)\n",
        "- [Geocoding using `geopandas`](#geocoding)\n",
        "- [Spatial join using `geopandas` (e.g. point-in-polygon)](#sj)\n",
        "- [Interactive map with `bokeh`](#bokeh)\n",
        "\n",
        "\n",
        "\n",
        "Further resources:\n",
        "\n",
        "`censusdata`: https://jtleider.github.io/censusdata/\n",
        "\n",
        "`geopandas` geocoding: https://automating-gis-processes.github.io/CSC18/lessons/L3/geocoding.html\n",
        "\n",
        "`geopandas` spatial join: https://geopandas.org/mergingdata.html\n",
        "\n",
        "`bokeh` example: https://docs.bokeh.org/en/latest/docs/gallery/texas.html"
      ]
    },
    {
      "cell_type": "code",
      "metadata": {
        "colab": {
          "base_uri": "https://localhost:8080/"
        },
        "id": "kdFKXOdfqkbK",
        "outputId": "c908affa-5e58-4d75-a4f4-f4047ae13713"
      },
      "source": [
        "# Use the hastag/point sign/sharp symbol '#' to make a comment\n",
        "# A comment in the code will be ignored\n",
        "#print(\"This won't appear - commented out\")\n",
        "print(\"This will appear - no comment\")"
      ],
      "execution_count": 1,
      "outputs": [
        {
          "output_type": "stream",
          "name": "stdout",
          "text": [
            "This will appear - no comment\n"
          ]
        }
      ]
    },
    {
      "cell_type": "code",
      "metadata": {
        "colab": {
          "base_uri": "https://localhost:8080/"
        },
        "id": "GkKPt_bCgdP2",
        "outputId": "fe00e366-7b9a-40f8-da4c-251e3c8428eb"
      },
      "source": [
        "!unzip cb_2018_us_county_20m.zip\n",
        "# This extracts our compressed folder. If it \"cannot find or open\" then you need to upload the zip file\n",
        "# Notice all the output, this is useful for understanding what is happening"
      ],
      "execution_count": 2,
      "outputs": [
        {
          "output_type": "stream",
          "name": "stdout",
          "text": [
            "unzip:  cannot find or open cb_2018_us_county_20m.zip, cb_2018_us_county_20m.zip.zip or cb_2018_us_county_20m.zip.ZIP.\n"
          ]
        }
      ]
    },
    {
      "cell_type": "code",
      "metadata": {
        "colab": {
          "base_uri": "https://localhost:8080/"
        },
        "id": "GdubIW_2epNL",
        "outputId": "669c660e-256d-4fdf-899a-249826b0d8f4"
      },
      "source": [
        "!apt-get install -y python-rtree; #Semicolon at the end suppresses the output when installing the rtree library"
      ],
      "execution_count": 3,
      "outputs": [
        {
          "output_type": "stream",
          "name": "stdout",
          "text": [
            "Reading package lists... Done\n",
            "Building dependency tree... Done\n",
            "Reading state information... Done\n",
            "E: Unable to locate package python-rtree\n"
          ]
        }
      ]
    },
    {
      "cell_type": "code",
      "metadata": {
        "id": "bmkhUc6Gehfw",
        "colab": {
          "base_uri": "https://localhost:8080/"
        },
        "outputId": "e571e879-b596-450e-b590-f6f3370831f9"
      },
      "source": [
        "!pip install pygeos #We install some libraries with the tool called \"pip\"\n",
        "!pip install geopandas; #semicolon suppressed output\n",
        "# If you want to learn more about these libraries, Google search \"Pygeos\" or \"geopandas\""
      ],
      "execution_count": 4,
      "outputs": [
        {
          "output_type": "stream",
          "name": "stdout",
          "text": [
            "Collecting pygeos\n",
            "  Downloading pygeos-0.14-cp310-cp310-manylinux_2_17_x86_64.manylinux2014_x86_64.whl (2.2 MB)\n",
            "\u001b[2K     \u001b[90m━━━━━━━━━━━━━━━━━━━━━━━━━━━━━━━━━━━━━━━━\u001b[0m \u001b[32m2.2/2.2 MB\u001b[0m \u001b[31m9.0 MB/s\u001b[0m eta \u001b[36m0:00:00\u001b[0m\n",
            "\u001b[?25hRequirement already satisfied: numpy>=1.13 in /usr/local/lib/python3.10/dist-packages (from pygeos) (1.23.5)\n",
            "Installing collected packages: pygeos\n",
            "Successfully installed pygeos-0.14\n",
            "Requirement already satisfied: geopandas in /usr/local/lib/python3.10/dist-packages (0.13.2)\n",
            "Requirement already satisfied: fiona>=1.8.19 in /usr/local/lib/python3.10/dist-packages (from geopandas) (1.9.5)\n",
            "Requirement already satisfied: packaging in /usr/local/lib/python3.10/dist-packages (from geopandas) (23.2)\n",
            "Requirement already satisfied: pandas>=1.1.0 in /usr/local/lib/python3.10/dist-packages (from geopandas) (1.5.3)\n",
            "Requirement already satisfied: pyproj>=3.0.1 in /usr/local/lib/python3.10/dist-packages (from geopandas) (3.6.1)\n",
            "Requirement already satisfied: shapely>=1.7.1 in /usr/local/lib/python3.10/dist-packages (from geopandas) (2.0.2)\n",
            "Requirement already satisfied: attrs>=19.2.0 in /usr/local/lib/python3.10/dist-packages (from fiona>=1.8.19->geopandas) (23.1.0)\n",
            "Requirement already satisfied: certifi in /usr/local/lib/python3.10/dist-packages (from fiona>=1.8.19->geopandas) (2023.7.22)\n",
            "Requirement already satisfied: click~=8.0 in /usr/local/lib/python3.10/dist-packages (from fiona>=1.8.19->geopandas) (8.1.7)\n",
            "Requirement already satisfied: click-plugins>=1.0 in /usr/local/lib/python3.10/dist-packages (from fiona>=1.8.19->geopandas) (1.1.1)\n",
            "Requirement already satisfied: cligj>=0.5 in /usr/local/lib/python3.10/dist-packages (from fiona>=1.8.19->geopandas) (0.7.2)\n",
            "Requirement already satisfied: six in /usr/local/lib/python3.10/dist-packages (from fiona>=1.8.19->geopandas) (1.16.0)\n",
            "Requirement already satisfied: setuptools in /usr/local/lib/python3.10/dist-packages (from fiona>=1.8.19->geopandas) (67.7.2)\n",
            "Requirement already satisfied: python-dateutil>=2.8.1 in /usr/local/lib/python3.10/dist-packages (from pandas>=1.1.0->geopandas) (2.8.2)\n",
            "Requirement already satisfied: pytz>=2020.1 in /usr/local/lib/python3.10/dist-packages (from pandas>=1.1.0->geopandas) (2023.3.post1)\n",
            "Requirement already satisfied: numpy>=1.21.0 in /usr/local/lib/python3.10/dist-packages (from pandas>=1.1.0->geopandas) (1.23.5)\n"
          ]
        }
      ]
    },
    {
      "cell_type": "code",
      "metadata": {
        "id": "2dTjxx8ZfL5T",
        "colab": {
          "base_uri": "https://localhost:8080/"
        },
        "outputId": "b27a0c97-c648-4632-9ab6-412b9952925e"
      },
      "source": [
        "import pygeos # Now that we installed pygeos, we still need to import them\n",
        "import pandas as pd # by using the shorter names we save some time later on\n",
        "import numpy as np # instead of calling it numpy we call it np\n",
        "import geopandas as gpd # even though we are calling it gpd it is still widely known as \"geopandas\""
      ],
      "execution_count": 5,
      "outputs": [
        {
          "output_type": "stream",
          "name": "stderr",
          "text": [
            "/usr/local/lib/python3.10/dist-packages/geopandas/_compat.py:124: UserWarning: The Shapely GEOS version (3.11.2-CAPI-1.17.2) is incompatible with the GEOS version PyGEOS was compiled with (3.10.4-CAPI-1.16.2). Conversions between both will be slow.\n",
            "  warnings.warn(\n",
            "<ipython-input-5-14c62f28b034>:4: DeprecationWarning: Shapely 2.0 is installed, but because PyGEOS is also installed, GeoPandas still uses PyGEOS by default. However, starting with version 0.14, the default will switch to Shapely. To force to use Shapely 2.0 now, you can either uninstall PyGEOS or set the environment variable USE_PYGEOS=0. You can do this before starting the Python process, or in your code before importing geopandas:\n",
            "\n",
            "import os\n",
            "os.environ['USE_PYGEOS'] = '0'\n",
            "import geopandas\n",
            "\n",
            "In the next release, GeoPandas will switch to using Shapely by default, even if PyGEOS is installed. If you only have PyGEOS installed to get speed-ups, this switch should be smooth. However, if you are using PyGEOS directly (calling PyGEOS functions on geometries from GeoPandas), this will then stop working and you are encouraged to migrate from PyGEOS to Shapely 2.0 (https://shapely.readthedocs.io/en/latest/migration_pygeos.html).\n",
            "  import geopandas as gpd # even though we are calling it gpd it is still widely known as \"geopandas\"\n"
          ]
        }
      ]
    },
    {
      "cell_type": "markdown",
      "metadata": {
        "id": "cPv2axFLfL5T"
      },
      "source": [
        "<a id='census'></a>\n",
        "### Census API\n"
      ]
    },
    {
      "cell_type": "code",
      "metadata": {
        "id": "bkTqkhjHfL5T",
        "colab": {
          "base_uri": "https://localhost:8080/"
        },
        "outputId": "cf0c3b4b-9457-4b25-c946-ef2288a9d24e"
      },
      "source": [
        "!pip install censusdata # We install and import the censusdata library\n",
        "import censusdata # This library loads census data for us, so we don't need to go to the US Census Bureau website"
      ],
      "execution_count": 6,
      "outputs": [
        {
          "output_type": "stream",
          "name": "stdout",
          "text": [
            "Collecting censusdata\n",
            "  Downloading CensusData-1.15.post1.tar.gz (26.6 MB)\n",
            "\u001b[2K     \u001b[90m━━━━━━━━━━━━━━━━━━━━━━━━━━━━━━━━━━━━━━━━\u001b[0m \u001b[32m26.6/26.6 MB\u001b[0m \u001b[31m58.9 MB/s\u001b[0m eta \u001b[36m0:00:00\u001b[0m\n",
            "\u001b[?25h  Preparing metadata (setup.py) ... \u001b[?25l\u001b[?25hdone\n",
            "Requirement already satisfied: pandas in /usr/local/lib/python3.10/dist-packages (from censusdata) (1.5.3)\n",
            "Requirement already satisfied: requests in /usr/local/lib/python3.10/dist-packages (from censusdata) (2.31.0)\n",
            "Requirement already satisfied: python-dateutil>=2.8.1 in /usr/local/lib/python3.10/dist-packages (from pandas->censusdata) (2.8.2)\n",
            "Requirement already satisfied: pytz>=2020.1 in /usr/local/lib/python3.10/dist-packages (from pandas->censusdata) (2023.3.post1)\n",
            "Requirement already satisfied: numpy>=1.21.0 in /usr/local/lib/python3.10/dist-packages (from pandas->censusdata) (1.23.5)\n",
            "Requirement already satisfied: charset-normalizer<4,>=2 in /usr/local/lib/python3.10/dist-packages (from requests->censusdata) (3.3.1)\n",
            "Requirement already satisfied: idna<4,>=2.5 in /usr/local/lib/python3.10/dist-packages (from requests->censusdata) (3.4)\n",
            "Requirement already satisfied: urllib3<3,>=1.21.1 in /usr/local/lib/python3.10/dist-packages (from requests->censusdata) (2.0.7)\n",
            "Requirement already satisfied: certifi>=2017.4.17 in /usr/local/lib/python3.10/dist-packages (from requests->censusdata) (2023.7.22)\n",
            "Requirement already satisfied: six>=1.5 in /usr/local/lib/python3.10/dist-packages (from python-dateutil>=2.8.1->pandas->censusdata) (1.16.0)\n",
            "Building wheels for collected packages: censusdata\n",
            "  Building wheel for censusdata (setup.py) ... \u001b[?25l\u001b[?25hdone\n",
            "  Created wheel for censusdata: filename=CensusData-1.15.post1-py3-none-any.whl size=28205746 sha256=f25b1e0b8c08e585e040f3207ba9b70669bd94d3b99e33c09ab0f5bfefbf6274\n",
            "  Stored in directory: /root/.cache/pip/wheels/40/0a/09/c996fa9cc686a1efb90426ce5fbaac1e2e0d7e0efbb3939a85\n",
            "Successfully built censusdata\n",
            "Installing collected packages: censusdata\n",
            "Successfully installed censusdata-1.15.post1\n"
          ]
        }
      ]
    },
    {
      "cell_type": "code",
      "metadata": {
        "id": "YzYh-UaUfL5T"
      },
      "source": [
        "#Pull Data for all US counties\n",
        "#The code associated with attributes is found using printtable below\n",
        "\n",
        "age_race = censusdata.download('acs5' #Dataset to use\n",
        "                               , 2018, # year 2014-2018, the most recent one\n",
        "                               censusdata.censusgeo([('county',\"*\")]), #Geography, * = wildcard for all\n",
        "                                   ['DP05_0001E', #Total Pop\n",
        "                                    'DP05_0021PE', #Pct_65+\n",
        "                                    'DP05_0038PE', #Pct_black\n",
        "                                    'DP05_0071PE', #Pct_hispanic\n",
        "                                    'DP05_0002E', #Male\n",
        "                                    'DP05_0003E', #Female\n",
        "                                   ],\n",
        "                                   tabletype='profile')\n",
        "#Re-name the column names\n",
        "age_race.columns = ['total_pop','pct_65_over','pct_black','pct_hispanic','males','females']"
      ],
      "execution_count": 7,
      "outputs": []
    },
    {
      "cell_type": "code",
      "metadata": {
        "colab": {
          "base_uri": "https://localhost:8080/",
          "height": 193
        },
        "id": "CIOe_dADfL5U",
        "outputId": "3eb6388a-fb95-40a1-c7ec-f265ef0fd95c"
      },
      "source": [
        "data.head()\n",
        "#age_race #try uncommenting this line and commenting out the above line. This will return different things"
      ],
      "execution_count": 8,
      "outputs": [
        {
          "output_type": "error",
          "ename": "NameError",
          "evalue": "ignored",
          "traceback": [
            "\u001b[0;31m---------------------------------------------------------------------------\u001b[0m",
            "\u001b[0;31mNameError\u001b[0m                                 Traceback (most recent call last)",
            "\u001b[0;32m<ipython-input-8-262623e302a8>\u001b[0m in \u001b[0;36m<cell line: 1>\u001b[0;34m()\u001b[0m\n\u001b[0;32m----> 1\u001b[0;31m \u001b[0mdata\u001b[0m\u001b[0;34m.\u001b[0m\u001b[0mhead\u001b[0m\u001b[0;34m(\u001b[0m\u001b[0;34m)\u001b[0m\u001b[0;34m\u001b[0m\u001b[0;34m\u001b[0m\u001b[0m\n\u001b[0m\u001b[1;32m      2\u001b[0m \u001b[0;31m#age_race #try uncommenting this line and commenting out the above line. This will return different things\u001b[0m\u001b[0;34m\u001b[0m\u001b[0;34m\u001b[0m\u001b[0m\n",
            "\u001b[0;31mNameError\u001b[0m: name 'data' is not defined"
          ]
        }
      ]
    },
    {
      "cell_type": "code",
      "metadata": {
        "id": "mr38TOh8fL5U"
      },
      "source": [
        "#Check each Data Profile\n",
        "# printtable shows the variable, table, label\n",
        "censusdata.printtable(censusdata.censustable('acs5', 2015, 'DP03'))"
      ],
      "execution_count": null,
      "outputs": []
    },
    {
      "cell_type": "code",
      "metadata": {
        "id": "LDg8_gWQfL5U"
      },
      "source": [
        "#Check on state code\n",
        "censusdata.geographies(censusdata.censusgeo([('state', '*')]), 'acs5', 2018)"
      ],
      "execution_count": null,
      "outputs": []
    },
    {
      "cell_type": "code",
      "metadata": {
        "id": "UavpbRzCfL5U"
      },
      "source": [],
      "execution_count": null,
      "outputs": []
    },
    {
      "cell_type": "code",
      "metadata": {
        "id": "VM4wo9JVfL5V"
      },
      "source": [
        "#Pull Data for only Illinois counties\n",
        "IL_age_race = censusdata.download('acs5', 2018, censusdata.censusgeo([('state', '17'),('county',\"*\")]),\n",
        "                                   ['DP05_0001E', #Total Pop\n",
        "                                    'DP05_0021PE', #Pct_65+\n",
        "                                    'DP05_0038PE', #Pct_black\n",
        "                                    'DP05_0071PE', #Pct_hispanic\n",
        "                                    'DP05_0002E', #Male\n",
        "                                    'DP05_0003E', #Female\n",
        "                                   ],\n",
        "                                   tabletype='profile')\n",
        "IL_age_race.columns = ['total_pop','pct_65_over','pct_black','pct_hispanic','males','females']"
      ],
      "execution_count": null,
      "outputs": []
    },
    {
      "cell_type": "code",
      "metadata": {
        "id": "tdP8eA2ofL5X"
      },
      "source": [
        "IL_age_race.head()"
      ],
      "execution_count": null,
      "outputs": []
    },
    {
      "cell_type": "code",
      "metadata": {
        "id": "MVBjBrQ1fL5X"
      },
      "source": [],
      "execution_count": null,
      "outputs": []
    },
    {
      "cell_type": "code",
      "metadata": {
        "id": "IwaheXCofL5X"
      },
      "source": [
        "#Concatenate these ACS attributes together\n",
        "IL_acs_18 = pd.concat([IL_age_race,IL_edu],axis=1)"
      ],
      "execution_count": null,
      "outputs": []
    },
    {
      "cell_type": "code",
      "metadata": {
        "id": "ThzzPpDSfL5X"
      },
      "source": [
        "IL_acs_18"
      ],
      "execution_count": null,
      "outputs": []
    },
    {
      "cell_type": "code",
      "metadata": {
        "id": "xJxNtoiafL5X"
      },
      "source": [
        "#You can export the data to a csv file like this:\n",
        "censusdata.export.exportcsv(\"IL_acs_18.csv\", IL_acs_18)"
      ],
      "execution_count": null,
      "outputs": []
    },
    {
      "cell_type": "code",
      "metadata": {
        "id": "67Q9h1yGfL5X"
      },
      "source": [
        "#Let's read it back in\n",
        "IL_acs_18 = pd.read_csv(\"IL_acs_18.csv\")"
      ],
      "execution_count": null,
      "outputs": []
    },
    {
      "cell_type": "code",
      "metadata": {
        "id": "kJPkgx4IkvMT"
      },
      "source": [
        "IL_acs_18"
      ],
      "execution_count": null,
      "outputs": []
    },
    {
      "cell_type": "code",
      "metadata": {
        "id": "Sof1PySvfL5X"
      },
      "source": [
        "#Here we create a GEOID field, will be used to join with TIGER boundary files\n",
        "IL_acs_18[\"GEOID\"]= (IL_acs_18['state'].astype(str).str.zfill(2) + IL_acs_18['county'].astype(str).str.zfill(3)).astype(int)\n",
        "# common key between shp and csv is FIPS code\n",
        "# county code is 3 digit, so 83 should be 083 which is why we add a 0 to some"
      ],
      "execution_count": null,
      "outputs": []
    },
    {
      "cell_type": "code",
      "metadata": {
        "id": "ZwwjfAHQfL5Y"
      },
      "source": [
        "IL_acs_18"
      ],
      "execution_count": null,
      "outputs": []
    },
    {
      "cell_type": "code",
      "metadata": {
        "id": "ldsrJNLbfL5Y"
      },
      "source": [
        "#Read-in the TIGER boundary files\n",
        "#Downloaded from https://www.census.gov/geographies/mapping-files/time-series/geo/carto-boundary-file.html\n",
        "counties = gpd.read_file(\"/content/cb_2018_us_county_20m/cb_2018_us_county_20m.shp\")"
      ],
      "execution_count": null,
      "outputs": []
    },
    {
      "cell_type": "code",
      "metadata": {
        "id": "xmfVbjpafL5Z"
      },
      "source": [
        "#This happens elsewhere that we need to make sure the format of the GEOID to be the same.\n",
        "#Here I create a new attribute called \"GEOID_int\"\n",
        "\n",
        "counties[\"GEOID_int\"] = counties.GEOID.astype(int)"
      ],
      "execution_count": null,
      "outputs": []
    },
    {
      "cell_type": "code",
      "metadata": {
        "id": "pLgBoC6rfL5Z"
      },
      "source": [
        "#Table join the boundary file with the acs file\n",
        "#\"Join by Attribute\" in ArcGIS\n",
        "#first data frame is the left, second is on the right, ,we specify the keys and join based on the shape on the left\n",
        "IL_acs = gpd.GeoDataFrame(pd.merge(IL_acs_18,counties,how=\"left\",left_on=\"GEOID\",right_on=\"GEOID_int\"))"
      ],
      "execution_count": null,
      "outputs": []
    },
    {
      "cell_type": "code",
      "metadata": {
        "id": "aTKKwc8GmepZ"
      },
      "source": [
        "IL_acs.head()"
      ],
      "execution_count": null,
      "outputs": []
    },
    {
      "cell_type": "code",
      "metadata": {
        "id": "8Bo1ecnwm2nr"
      },
      "source": [
        "IL_acs.plot(column=\"pct_hispanic\",legend=True)\n"
      ],
      "execution_count": null,
      "outputs": []
    },
    {
      "cell_type": "code",
      "metadata": {
        "id": "Btno__nhm_ME"
      },
      "source": [
        "#exporting to shapefile for more analysis with ArcGIS Pro\n",
        "IL_acs.to_file(\"name.shp\")"
      ],
      "execution_count": null,
      "outputs": []
    },
    {
      "cell_type": "code",
      "metadata": {
        "id": "2aUCHEiCm_B8"
      },
      "source": [
        "IL_acs.centroid # Calculate the centroid of each county in the shapefile\n"
      ],
      "execution_count": null,
      "outputs": []
    },
    {
      "cell_type": "code",
      "metadata": {
        "id": "dThNZml4m-xV"
      },
      "source": [
        "IL_acs.centroid.x.values # convert to numpy array"
      ],
      "execution_count": null,
      "outputs": []
    },
    {
      "cell_type": "markdown",
      "metadata": {
        "id": "FKGH1GDsfL5n"
      },
      "source": [
        "<a id='bokeh'></a>\n",
        "### Interactive mapping\n"
      ]
    },
    {
      "cell_type": "code",
      "metadata": {
        "id": "QVkMexy0fL5p"
      },
      "source": [
        "#We use an awesome package called bokeh (I love this package!)\n",
        "\n",
        "from bokeh.io import output_file, show,output_notebook\n",
        "from bokeh.models import ColumnDataSource,ColorBar,HoverTool\n",
        "from bokeh.transform import linear_cmap\n",
        "from bokeh.plotting import figure\n",
        "from bokeh.palettes import Spectral6 #https://docs.bokeh.org/en/latest/docs/reference/palettes.html"
      ],
      "execution_count": null,
      "outputs": []
    },
    {
      "cell_type": "code",
      "metadata": {
        "id": "WzonlXcjfL5q"
      },
      "source": [
        "#To make your map be outputted inline\n",
        "output_notebook()"
      ],
      "execution_count": null,
      "outputs": []
    },
    {
      "cell_type": "code",
      "metadata": {
        "id": "OZHiNE4AfL5r"
      },
      "source": [
        "#Don't change this!!!\n",
        "#Just copy this whole cell.\n",
        "#This is a helper function for converting a GeoDataFrame to the format that bokeh can recognize.\n",
        "\n",
        "def gpd_bokeh(df):\n",
        "    \"\"\"Convert geometries from geopandas to bokeh format\"\"\"\n",
        "    nan = float('nan')\n",
        "    lons = []\n",
        "    lats = []\n",
        "    for i,shape in enumerate(df.geometry.values):\n",
        "        if shape.geom_type == 'MultiPolygon':\n",
        "            gx = []\n",
        "            gy = []\n",
        "            ng = len(shape.geoms) - 1\n",
        "            for j,member in enumerate(shape.geoms):\n",
        "                xy = np.array(list(member.exterior.coords))\n",
        "                xs = xy[:,0].tolist()\n",
        "                ys = xy[:,1].tolist()\n",
        "                gx.extend(xs)\n",
        "                gy.extend(ys)\n",
        "                if j < ng:\n",
        "                    gx.append(nan)\n",
        "                    gy.append(nan)\n",
        "            lons.append(gx)\n",
        "            lats.append(gy)\n",
        "\n",
        "        else:\n",
        "            xy = np.array(list(shape.exterior.coords))\n",
        "            xs = xy[:,0].tolist()\n",
        "            ys = xy[:,1].tolist()\n",
        "            lons.append(xs)\n",
        "            lats.append(ys)\n",
        "\n",
        "    return lons,lats"
      ],
      "execution_count": null,
      "outputs": []
    },
    {
      "cell_type": "code",
      "metadata": {
        "id": "PGwRdlo5fL5s"
      },
      "source": [
        "#IL_acs\n",
        "IL_acs.plot()"
      ],
      "execution_count": null,
      "outputs": []
    },
    {
      "cell_type": "code",
      "metadata": {
        "id": "xlORVEtCfL5s"
      },
      "source": [
        "#Feed in the data for bokeh\n",
        "\n",
        "lons, lats = gpd_bokeh(IL_acs)\n",
        "\n",
        "source = ColumnDataSource(data=dict( #specify the x, y coordinates, and the data we want to put in to the map\n",
        "        x=lons,\n",
        "        y=lats,\n",
        "        name = IL_acs['NAME_x'], #Add any columns you want to bokeh. NAME_x is the county name\n",
        "        population = IL_acs['total_pop'],\n",
        "        Pct_Bach = IL_acs['pct_bach'])) #pct_bach is the percentage of residents with a bachelors degree"
      ],
      "execution_count": null,
      "outputs": []
    },
    {
      "cell_type": "code",
      "metadata": {
        "id": "g0Rj_L0RfL5t"
      },
      "source": [
        "#Create a color map\n",
        "color_mapper = linear_cmap(field_name='Pct_Bach', #the field to map\n",
        "                           palette=Spectral6, #the color to use\n",
        "                           low=min(IL_acs['pct_bach']) , # The low and high bounds for your color map\n",
        "                           high=max(IL_acs['pct_bach']))\n"
      ],
      "execution_count": null,
      "outputs": []
    },
    {
      "cell_type": "code",
      "metadata": {
        "id": "aGYDd53cfL5t"
      },
      "source": [
        "#Add tools you want\n",
        "TOOLS = \"pan,wheel_zoom,reset,hover,save\""
      ],
      "execution_count": null,
      "outputs": []
    },
    {
      "cell_type": "code",
      "metadata": {
        "id": "wO8ilqONfL5t"
      },
      "source": [
        "#Create a plot frame with size and title\n",
        "map = figure(plot_width=450, plot_height=600,title=\"Education Attainment of Illinois\", tools=TOOLS)\n",
        "\n",
        "#Add the polygon patches\n",
        "map.patches('x', 'y', source=source, line_color=\"white\", line_width=0.1, color=color_mapper)\n",
        "\n",
        "#Add the hover tool and the hover field to display\n",
        "map.select_one(HoverTool).tooltips = [\n",
        "    ('County Name', '@name'), #each tuple needs to follow this format.\n",
        "    ('Population', '@population'),\n",
        "    ('% of People with a Bachelors degree', '@Pct_Bach')\n",
        "]\n",
        "\n",
        "#Add your colorbar\n",
        "color_bar = ColorBar(color_mapper=color_mapper['transform'], width=16, location=(0,0))\n",
        "map.add_layout(color_bar, 'right')"
      ],
      "execution_count": null,
      "outputs": []
    },
    {
      "cell_type": "code",
      "metadata": {
        "id": "sM2Kb-P0fL5t"
      },
      "source": [
        "#Show the map\n",
        "show(map)"
      ],
      "execution_count": null,
      "outputs": []
    },
    {
      "cell_type": "code",
      "metadata": {
        "id": "TC8y1q99fL5t"
      },
      "source": [
        "#You can export your map to a html file.\n",
        "output_file(\"Edu_IL.html\")"
      ],
      "execution_count": null,
      "outputs": []
    },
    {
      "cell_type": "code",
      "metadata": {
        "id": "0HBZSj6aJrFA"
      },
      "source": [],
      "execution_count": null,
      "outputs": []
    }
  ]
}