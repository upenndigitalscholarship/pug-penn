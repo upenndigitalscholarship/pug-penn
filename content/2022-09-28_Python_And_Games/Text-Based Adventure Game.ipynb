{
 "cells": [
  {
   "cell_type": "markdown",
   "id": "b3ab3c4f",
   "metadata": {},
   "source": [
    "https://github.com/makeuseofcode/python-adventure-game/blob/main/AdventureGame.py"
   ]
  }
 ],
 "metadata": {
  "kernelspec": {
   "display_name": "Python 3 (ipykernel)",
   "language": "python",
   "name": "python3"
  },
  "language_info": {
   "codemirror_mode": {
    "name": "ipython",
    "version": 3
   },
   "file_extension": ".py",
   "mimetype": "text/x-python",
   "name": "python",
   "nbconvert_exporter": "python",
   "pygments_lexer": "ipython3",
   "version": "3.8.12"
  }
 },
 "nbformat": 4,
 "nbformat_minor": 5
}
