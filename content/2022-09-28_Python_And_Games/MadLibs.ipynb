{
 "cells": [
  {
   "cell_type": "code",
   "execution_count": 1,
   "id": "27e09de6",
   "metadata": {},
   "outputs": [
    {
     "name": "stdout",
     "output_type": "stream",
     "text": [
      "Enter your name: Emily\n"
     ]
    }
   ],
   "source": [
    "name = input('Enter your name: ')"
   ]
  },
  {
   "cell_type": "code",
   "execution_count": 2,
   "id": "6f236244",
   "metadata": {},
   "outputs": [
    {
     "name": "stdout",
     "output_type": "stream",
     "text": [
      "My name is Emily\n"
     ]
    }
   ],
   "source": [
    "print('My name is {}'.format(name))"
   ]
  },
  {
   "cell_type": "code",
   "execution_count": 3,
   "id": "62027c69",
   "metadata": {},
   "outputs": [
    {
     "name": "stdout",
     "output_type": "stream",
     "text": [
      "Enter an adjective: funny\n",
      "Enter a noun: cat\n",
      "Enter a noun: table\n",
      "Enter an adjective: green\n"
     ]
    }
   ],
   "source": [
    "x = 5\n",
    "adj1 = input('Enter an adjective: ')\n",
    "noun1 = input('Enter a plural noun: ')\n",
    "noun2 = input('Enter a noun: ')\n",
    "adj2 = input('Enter an adjective: ')"
   ]
  },
  {
   "cell_type": "code",
   "execution_count": 4,
   "id": "b31207a5",
   "metadata": {},
   "outputs": [
    {
     "name": "stdout",
     "output_type": "stream",
     "text": [
      "\n",
      "\n",
      "Roses are funny,\n",
      "cat are blue,\n",
      "table is green,\n",
      "and so are you\n"
     ]
    }
   ],
   "source": [
    "print('\\n\\nRoses are {0},\\n{1} are blue,\\n{2} is {3},\\nand so are you'.format(adj1, noun1, noun2, adj2))"
   ]
  },
  {
   "cell_type": "code",
   "execution_count": null,
   "id": "31072557",
   "metadata": {},
   "outputs": [],
   "source": []
  }
 ],
 "metadata": {
  "kernelspec": {
   "display_name": "Python 3 (ipykernel)",
   "language": "python",
   "name": "python3"
  },
  "language_info": {
   "codemirror_mode": {
    "name": "ipython",
    "version": 3
   },
   "file_extension": ".py",
   "mimetype": "text/x-python",
   "name": "python",
   "nbconvert_exporter": "python",
   "pygments_lexer": "ipython3",
   "version": "3.8.12"
  }
 },
 "nbformat": 4,
 "nbformat_minor": 5
}
