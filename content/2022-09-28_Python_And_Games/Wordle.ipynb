{
 "cells": [
  {
   "cell_type": "code",
   "execution_count": null,
   "id": "e25b8cb0",
   "metadata": {},
   "outputs": [],
   "source": [
    "jt -t chesterish # requires dark theme to work properly"
   ]
  },
  {
   "cell_type": "markdown",
   "id": "83663bd2",
   "metadata": {},
   "source": [
    "First, let's build a loop for the game that allows us to end the game."
   ]
  },
  {
   "cell_type": "code",
   "execution_count": 4,
   "id": "96c6fe96",
   "metadata": {},
   "outputs": [
    {
     "name": "stdout",
     "output_type": "stream",
     "text": [
      "Start a new game? (y/quit)\n",
      "quit\n"
     ]
    }
   ],
   "source": [
    "loop = True # Set a value for loop\n",
    "while loop: # while loop is True\n",
    "    print(\"Start a new game? (y/quit)\") # print text \n",
    "    command = input() # allow for input ('quit')\n",
    "    if command == \"quit\": # if the input was 'quit'\n",
    "        loop = False # set value of loop to False"
   ]
  },
  {
   "cell_type": "markdown",
   "id": "62bbd755",
   "metadata": {},
   "source": [
    "Let's adjust that loop to fit the game mechanics of Wordle, where you get six tries. In order to do that, we have to restart the game after six tries. "
   ]
  },
  {
   "cell_type": "code",
   "execution_count": 5,
   "id": "87a4cc65",
   "metadata": {},
   "outputs": [
    {
     "name": "stdout",
     "output_type": "stream",
     "text": [
      "Start a new game? (y/quit)\n",
      "y\n",
      "Enter a word\n",
      "word\n",
      "word\n",
      "word\n",
      "word\n",
      "word\n",
      "word\n",
      "Start a new game? (y/quit)\n",
      "quit\n"
     ]
    }
   ],
   "source": [
    "loop = True\n",
    "while loop:\n",
    "    print(\"Start a new game? (y/quit)\")\n",
    "    command = input()\n",
    "    if command == \"quit\":\n",
    "        loop = False\n",
    "    elif command == \"y\":\n",
    "        inner_loop = 0\n",
    "        print(\"Enter a word\")\n",
    "        while inner_loop < 6:\n",
    "            attempt = input()\n",
    "            inner_loop = inner_loop + 1"
   ]
  },
  {
   "cell_type": "code",
   "execution_count": 6,
   "id": "d2d98026",
   "metadata": {},
   "outputs": [
    {
     "name": "stdout",
     "output_type": "stream",
     "text": [
      "Requirement already satisfied: colorama in /Users/estene/opt/anaconda3/lib/python3.8/site-packages (0.4.4)\n",
      "Note: you may need to restart the kernel to use updated packages.\n"
     ]
    }
   ],
   "source": [
    "pip install colorama # Colorama is a module for printing text in color"
   ]
  },
  {
   "cell_type": "code",
   "execution_count": 7,
   "id": "a723d610",
   "metadata": {},
   "outputs": [
    {
     "name": "stdout",
     "output_type": "stream",
     "text": [
      "Start a new game? (y/quit)\n"
     ]
    }
   ],
   "source": [
    "from colorama import init, Fore, Back, Style\n",
    "init()\n",
    "\n",
    "# ...\n",
    "print(Back.WHITE + Fore.BLACK + \"Start a new game? (y/quit)\" + Style.RESET_ALL)"
   ]
  },
  {
   "cell_type": "code",
   "execution_count": 8,
   "id": "9f91f22c",
   "metadata": {},
   "outputs": [],
   "source": [
    "# A list of five letter words! You can adjust this list to include more or less. \n",
    "word_list = [\"about\",\"alert\",\"argue\",\"beach\",\"above\",\"alike\",\"arise\",\"began\",\"abuse\",\"alive\",\"array\",\"begin\",\"actor\",\"allow\",\"aside\",\"begun\",\"acute\",\"alone\",\"asset\",\"being\",\"admit\",\"along\",\"audio\",\"below\",\"adopt\",\"alter\",\"audit\",\"bench\",\"adult\",\"among\",\"avoid\",\"billy\",\"after\",\"anger\",\"award\",\"birth\",\"again\",\"angle\",\"aware\",\"black\",\"agent\",\"angry\",\"badly\",\"blame\",\"agree\",\"apart\",\"baker\",\"blind\",\"ahead\",\"apple\",\"bases\",\"block\",\"alarm\",\"apply\",\"basic\",\"blood\",\"album\",\"arena\",\"basis\",\"board\",\"boost\",\"buyer\",\"china\",\"cover\",\"booth\",\"cable\",\"chose\",\"craft\",\"bound\",\"calif\",\"civil\",\"crash\",\"brain\",\"carry\",\"claim\",\"cream\",\"brand\",\"catch\",\"class\",\"crime\",\"bread\",\"cause\",\"clean\",\"cross\",\"break\",\"chain\",\"clear\",\"crowd\",\"breed\",\"chair\",\"click\",\"crown\",\"brief\",\"chart\",\"clock\",\"curve\",\"bring\",\"chase\",\"close\",\"cycle\",\"broad\",\"cheap\",\"coach\",\"daily\",\"broke\",\"check\",\"coast\",\"dance\",\"brown\",\"chest\",\"could\",\"dated\",\"build\",\"chief\",\"count\",\"dealt\",\"built\",\"child\",\"court\",\"death\",\"debut\",\"entry\",\"forth\",\"group\",\"delay\",\"equal\",\"forty\",\"grown\",\"depth\",\"error\",\"forum\",\"guard\",\"doing\",\"event\",\"found\",\"guess\",\"doubt\",\"every\",\"frame\",\"guest\",\"dozen\",\"exact\",\"frank\",\"guide\",\"draft\",\"exist\",\"fraud\",\"happy\",\"drama\",\"extra\",\"fresh\",\"harry\",\"drawn\",\"faith\",\"front\",\"heart\",\"dream\",\"false\",\"fruit\",\"heavy\",\"dress\",\"fault\",\"fully\",\"hence\",\"drill\",\"fiber\",\"funny\",\"night\",\"drink\",\"field\",\"giant\",\"horse\",\"drive\",\"fifth\",\"given\",\"hotel\",\"drove\",\"fifty\",\"glass\",\"house\",\"dying\",\"fight\",\"globe\",\"human\",\"eager\",\"final\",\"going\",\"ideal\",\"early\",\"first\",\"grace\",\"image\",\"earth\",\"fixed\",\"grade\",\"index\",\"eight\",\"flash\",\"grand\",\"inner\",\"elite\",\"fleet\",\"grant\",\"input\",\"empty\",\"floor\",\"grass\",\"issue\",\"enemy\",\"fluid\",\"great\",\"irony\",\"enjoy\",\"focus\",\"green\",\"juice\",\"enter\",\"force\",\"gross\",\"joint\",\"judge\",\"metal\",\"media\",\"newly\",\"known\",\"local\",\"might\",\"noise\",\"label\",\"logic\",\"minor\",\"north\",\"large\",\"loose\",\"minus\",\"noted\",\"laser\",\"lower\",\"mixed\",\"novel\",\"later\",\"lucky\",\"model\",\"nurse\",\"laugh\",\"lunch\",\"money\",\"occur\",\"layer\",\"lying\",\"month\",\"ocean\",\"learn\",\"magic\",\"moral\",\"offer\",\"lease\",\"major\",\"motor\",\"often\",\"least\",\"maker\",\"mount\",\"order\",\"leave\",\"march\",\"mouse\",\"other\",\"legal\",\"music\",\"mouth\",\"ought\",\"level\",\"match\",\"movie\",\"paint\",\"light\",\"mayor\",\"needs\",\"paper\",\"limit\",\"meant\",\"never\",\"party\",\"peace\",\"power\",\"radio\",\"round\",\"panel\",\"press\",\"raise\",\"route\",\"phase\",\"price\",\"range\",\"royal\",\"phone\",\"pride\",\"rapid\",\"rural\",\"photo\",\"prime\",\"ratio\",\"scale\",\"piece\",\"print\",\"reach\",\"scene\",\"pilot\",\"prior\",\"ready\",\"scope\",\"pitch\",\"prize\",\"refer\",\"score\",\"place\",\"proof\",\"right\",\"sense\",\"plain\",\"proud\",\"rival\",\"serve\",\"plane\",\"prove\",\"river\",\"seven\",\"plant\",\"queen\",\"quick\",\"shall\",\"plate\",\"sixth\",\"stand\",\"shape\",\"point\",\"quiet\",\"roman\",\"share\",\"pound\",\"quite\",\"rough\",\"sharp\",\"sheet\",\"spare\",\"style\",\"times\",\"shelf\",\"speak\",\"sugar\",\"tired\",\"shell\",\"speed\",\"suite\",\"title\",\"shift\",\"spend\",\"super\",\"today\",\"shirt\",\"spent\",\"sweet\",\"topic\",\"shock\",\"split\",\"table\",\"total\",\"shoot\",\"spoke\",\"taken\",\"touch\",\"short\",\"sport\",\"taste\",\"tough\",\"shown\",\"staff\",\"taxes\",\"tower\",\"sight\",\"stage\",\"teach\",\"track\",\"since\",\"stake\",\"teeth\",\"trade\",\"sixty\",\"start\",\"texas\",\"treat\",\"sized\",\"state\",\"thank\",\"trend\",\"skill\",\"steam\",\"theft\",\"trial\",\"sleep\",\"steel\",\"their\",\"tried\",\"slide\",\"stick\",\"theme\",\"tries\",\"small\",\"still\",\"there\",\"truck\",\"smart\",\"stock\",\"these\",\"truly\",\"smile\",\"stone\",\"thick\",\"trust\",\"smith\",\"stood\",\"thing\",\"truth\",\"smoke\",\"store\",\"think\",\"twice\",\"solid\",\"storm\",\"third\",\"under\",\"solve\",\"story\",\"those\",\"undue\",\"sorry\",\"strip\",\"three\",\"union\",\"sound\",\"stuck\",\"threw\",\"unity\",\"south\",\"study\",\"throw\",\"until\",\"space\",\"stuff\",\"tight\",\"upper\",\"upset\",\"whole\",\"waste\",\"wound\",\"urban\",\"whose\",\"watch\",\"write\",\"usage\",\"woman\",\"water\",\"wrong\",\"usual\",\"train\",\"wheel\",\"wrote\",\"valid\",\"world\",\"where\",\"yield\",\"value\",\"worry\",\"which\",\"young\",\"video\",\"worse\",\"while\",\"youth\",\"virus\",\"worst\",\"white\",\"worth\",\"visit\",\"would\",\"vital\",\"voice\"]\n",
    "# ..."
   ]
  },
  {
   "cell_type": "code",
   "execution_count": 9,
   "id": "4c1aec13",
   "metadata": {},
   "outputs": [],
   "source": [
    "import random # Random is a module for selecting random integers"
   ]
  },
  {
   "cell_type": "code",
   "execution_count": 10,
   "id": "e551fd09",
   "metadata": {},
   "outputs": [],
   "source": [
    "# ...\n",
    "\n",
    "while inner_loop < 6:\n",
    "\n",
    "    attempt = input()\n",
    "\n",
    "    # Game logic\n",
    "    output = \"\"\n",
    "    for i in range(word.__len__()):\n",
    "        if attempt[i] == word[i]:\n",
    "            output = output + Back.RED + attempt[i] + Back.RESET\n",
    "        elif attempt[i] in word:\n",
    "            output = output + Back.YELLOW + attempt[i] + Back.RESET\n",
    "        else:\n",
    "            output = output + attempt[i] + Back.RESET\n",
    "    print(output)\n",
    "    if word == attempt:\n",
    "        print(\"Congrats\")\n",
    "        inner_loop = inner_loop + 6 # Reset game\n",
    "\n",
    "    inner_loop = inner_loop + 1"
   ]
  },
  {
   "cell_type": "code",
   "execution_count": 14,
   "id": "d9ce89e7",
   "metadata": {},
   "outputs": [
    {
     "name": "stdout",
     "output_type": "stream",
     "text": [
      "Start a new game? (y/quit)\n",
      "y\n",
      "Enter a word\n",
      "casual\n",
      "casua\n",
      "doggy\n",
      "doggy\n",
      "somes\n",
      "somes\n",
      "words\n",
      "words\n",
      "carts\n",
      "carts\n",
      "anger\n",
      "anger\n",
      "Start a new game? (y/quit)\n"
     ]
    },
    {
     "ename": "KeyboardInterrupt",
     "evalue": "Interrupted by user",
     "output_type": "error",
     "traceback": [
      "\u001b[0;31m---------------------------------------------------------------------------\u001b[0m",
      "\u001b[0;31mKeyboardInterrupt\u001b[0m                         Traceback (most recent call last)",
      "\u001b[0;32m/var/folders/kl/0dwxwfpd25xdhw1l6w4r3pbr0000gs/T/ipykernel_45642/2916479945.py\u001b[0m in \u001b[0;36m<module>\u001b[0;34m\u001b[0m\n\u001b[1;32m      4\u001b[0m \u001b[0;32mwhile\u001b[0m \u001b[0mloop\u001b[0m\u001b[0;34m:\u001b[0m\u001b[0;34m\u001b[0m\u001b[0;34m\u001b[0m\u001b[0m\n\u001b[1;32m      5\u001b[0m     \u001b[0mprint\u001b[0m\u001b[0;34m(\u001b[0m\u001b[0mBack\u001b[0m\u001b[0;34m.\u001b[0m\u001b[0mWHITE\u001b[0m \u001b[0;34m+\u001b[0m \u001b[0mFore\u001b[0m\u001b[0;34m.\u001b[0m\u001b[0mBLACK\u001b[0m \u001b[0;34m+\u001b[0m \u001b[0;34m\"Start a new game? (y/quit)\"\u001b[0m \u001b[0;34m+\u001b[0m \u001b[0mStyle\u001b[0m\u001b[0;34m.\u001b[0m\u001b[0mRESET_ALL\u001b[0m\u001b[0;34m)\u001b[0m\u001b[0;34m\u001b[0m\u001b[0;34m\u001b[0m\u001b[0m\n\u001b[0;32m----> 6\u001b[0;31m     \u001b[0mcommand\u001b[0m \u001b[0;34m=\u001b[0m \u001b[0minput\u001b[0m\u001b[0;34m(\u001b[0m\u001b[0;34m)\u001b[0m\u001b[0;34m\u001b[0m\u001b[0;34m\u001b[0m\u001b[0m\n\u001b[0m\u001b[1;32m      7\u001b[0m     \u001b[0;32mif\u001b[0m \u001b[0mcommand\u001b[0m \u001b[0;34m==\u001b[0m \u001b[0;34m\"quit\"\u001b[0m\u001b[0;34m:\u001b[0m\u001b[0;34m\u001b[0m\u001b[0;34m\u001b[0m\u001b[0m\n\u001b[1;32m      8\u001b[0m         \u001b[0mloop\u001b[0m \u001b[0;34m=\u001b[0m \u001b[0;32mFalse\u001b[0m\u001b[0;34m\u001b[0m\u001b[0;34m\u001b[0m\u001b[0m\n",
      "\u001b[0;32m~/opt/anaconda3/lib/python3.8/site-packages/ipykernel/kernelbase.py\u001b[0m in \u001b[0;36mraw_input\u001b[0;34m(self, prompt)\u001b[0m\n\u001b[1;32m   1060\u001b[0m                 \u001b[0;34m\"raw_input was called, but this frontend does not support input requests.\"\u001b[0m\u001b[0;34m\u001b[0m\u001b[0;34m\u001b[0m\u001b[0m\n\u001b[1;32m   1061\u001b[0m             )\n\u001b[0;32m-> 1062\u001b[0;31m         return self._input_request(\n\u001b[0m\u001b[1;32m   1063\u001b[0m             \u001b[0mstr\u001b[0m\u001b[0;34m(\u001b[0m\u001b[0mprompt\u001b[0m\u001b[0;34m)\u001b[0m\u001b[0;34m,\u001b[0m\u001b[0;34m\u001b[0m\u001b[0;34m\u001b[0m\u001b[0m\n\u001b[1;32m   1064\u001b[0m             \u001b[0mself\u001b[0m\u001b[0;34m.\u001b[0m\u001b[0m_parent_ident\u001b[0m\u001b[0;34m[\u001b[0m\u001b[0;34m\"shell\"\u001b[0m\u001b[0;34m]\u001b[0m\u001b[0;34m,\u001b[0m\u001b[0;34m\u001b[0m\u001b[0;34m\u001b[0m\u001b[0m\n",
      "\u001b[0;32m~/opt/anaconda3/lib/python3.8/site-packages/ipykernel/kernelbase.py\u001b[0m in \u001b[0;36m_input_request\u001b[0;34m(self, prompt, ident, parent, password)\u001b[0m\n\u001b[1;32m   1105\u001b[0m             \u001b[0;32mexcept\u001b[0m \u001b[0mKeyboardInterrupt\u001b[0m\u001b[0;34m:\u001b[0m\u001b[0;34m\u001b[0m\u001b[0;34m\u001b[0m\u001b[0m\n\u001b[1;32m   1106\u001b[0m                 \u001b[0;31m# re-raise KeyboardInterrupt, to truncate traceback\u001b[0m\u001b[0;34m\u001b[0m\u001b[0;34m\u001b[0m\u001b[0;34m\u001b[0m\u001b[0m\n\u001b[0;32m-> 1107\u001b[0;31m                 \u001b[0;32mraise\u001b[0m \u001b[0mKeyboardInterrupt\u001b[0m\u001b[0;34m(\u001b[0m\u001b[0;34m\"Interrupted by user\"\u001b[0m\u001b[0;34m)\u001b[0m \u001b[0;32mfrom\u001b[0m \u001b[0;32mNone\u001b[0m\u001b[0;34m\u001b[0m\u001b[0;34m\u001b[0m\u001b[0m\n\u001b[0m\u001b[1;32m   1108\u001b[0m             \u001b[0;32mexcept\u001b[0m \u001b[0mException\u001b[0m\u001b[0;34m:\u001b[0m\u001b[0;34m\u001b[0m\u001b[0;34m\u001b[0m\u001b[0m\n\u001b[1;32m   1109\u001b[0m                 \u001b[0mself\u001b[0m\u001b[0;34m.\u001b[0m\u001b[0mlog\u001b[0m\u001b[0;34m.\u001b[0m\u001b[0mwarning\u001b[0m\u001b[0;34m(\u001b[0m\u001b[0;34m\"Invalid Message:\"\u001b[0m\u001b[0;34m,\u001b[0m \u001b[0mexc_info\u001b[0m\u001b[0;34m=\u001b[0m\u001b[0;32mTrue\u001b[0m\u001b[0;34m)\u001b[0m\u001b[0;34m\u001b[0m\u001b[0;34m\u001b[0m\u001b[0m\n",
      "\u001b[0;31mKeyboardInterrupt\u001b[0m: Interrupted by user"
     ]
    }
   ],
   "source": [
    "loop = True\n",
    "world_list = [\"about\",\"alert\",\"argue\",\"beach\",\"above\",\"alike\",\"arise\",\"began\",\"abuse\",\"alive\",\"array\",\"begin\",\"actor\",\"allow\",\"aside\",\"begun\",\"acute\",\"alone\",\"asset\",\"being\",\"admit\",\"along\",\"audio\",\"below\",\"adopt\",\"alter\",\"audit\",\"bench\",\"adult\",\"among\",\"avoid\",\"billy\",\"after\",\"anger\",\"award\",\"birth\",\"again\",\"angle\",\"aware\",\"black\",\"agent\",\"angry\",\"badly\",\"blame\",\"agree\",\"apart\",\"baker\",\"blind\",\"ahead\",\"apple\",\"bases\",\"block\",\"alarm\",\"apply\",\"basic\",\"blood\",\"album\",\"arena\",\"basis\",\"board\",\"boost\",\"buyer\",\"china\",\"cover\",\"booth\",\"cable\",\"chose\",\"craft\",\"bound\",\"calif\",\"civil\",\"crash\",\"brain\",\"carry\",\"claim\",\"cream\",\"brand\",\"catch\",\"class\",\"crime\",\"bread\",\"cause\",\"clean\",\"cross\",\"break\",\"chain\",\"clear\",\"crowd\",\"breed\",\"chair\",\"click\",\"crown\",\"brief\",\"chart\",\"clock\",\"curve\",\"bring\",\"chase\",\"close\",\"cycle\",\"broad\",\"cheap\",\"coach\",\"daily\",\"broke\",\"check\",\"coast\",\"dance\",\"brown\",\"chest\",\"could\",\"dated\",\"build\",\"chief\",\"count\",\"dealt\",\"built\",\"child\",\"court\",\"death\",\"debut\",\"entry\",\"forth\",\"group\",\"delay\",\"equal\",\"forty\",\"grown\",\"depth\",\"error\",\"forum\",\"guard\",\"doing\",\"event\",\"found\",\"guess\",\"doubt\",\"every\",\"frame\",\"guest\",\"dozen\",\"exact\",\"frank\",\"guide\",\"draft\",\"exist\",\"fraud\",\"happy\",\"drama\",\"extra\",\"fresh\",\"harry\",\"drawn\",\"faith\",\"front\",\"heart\",\"dream\",\"false\",\"fruit\",\"heavy\",\"dress\",\"fault\",\"fully\",\"hence\",\"drill\",\"fiber\",\"funny\",\"night\",\"drink\",\"field\",\"giant\",\"horse\",\"drive\",\"fifth\",\"given\",\"hotel\",\"drove\",\"fifty\",\"glass\",\"house\",\"dying\",\"fight\",\"globe\",\"human\",\"eager\",\"final\",\"going\",\"ideal\",\"early\",\"first\",\"grace\",\"image\",\"earth\",\"fixed\",\"grade\",\"index\",\"eight\",\"flash\",\"grand\",\"inner\",\"elite\",\"fleet\",\"grant\",\"input\",\"empty\",\"floor\",\"grass\",\"issue\",\"enemy\",\"fluid\",\"great\",\"irony\",\"enjoy\",\"focus\",\"green\",\"juice\",\"enter\",\"force\",\"gross\",\"joint\",\"judge\",\"metal\",\"media\",\"newly\",\"known\",\"local\",\"might\",\"noise\",\"label\",\"logic\",\"minor\",\"north\",\"large\",\"loose\",\"minus\",\"noted\",\"laser\",\"lower\",\"mixed\",\"novel\",\"later\",\"lucky\",\"model\",\"nurse\",\"laugh\",\"lunch\",\"money\",\"occur\",\"layer\",\"lying\",\"month\",\"ocean\",\"learn\",\"magic\",\"moral\",\"offer\",\"lease\",\"major\",\"motor\",\"often\",\"least\",\"maker\",\"mount\",\"order\",\"leave\",\"march\",\"mouse\",\"other\",\"legal\",\"music\",\"mouth\",\"ought\",\"level\",\"match\",\"movie\",\"paint\",\"light\",\"mayor\",\"needs\",\"paper\",\"limit\",\"meant\",\"never\",\"party\",\"peace\",\"power\",\"radio\",\"round\",\"panel\",\"press\",\"raise\",\"route\",\"phase\",\"price\",\"range\",\"royal\",\"phone\",\"pride\",\"rapid\",\"rural\",\"photo\",\"prime\",\"ratio\",\"scale\",\"piece\",\"print\",\"reach\",\"scene\",\"pilot\",\"prior\",\"ready\",\"scope\",\"pitch\",\"prize\",\"refer\",\"score\",\"place\",\"proof\",\"right\",\"sense\",\"plain\",\"proud\",\"rival\",\"serve\",\"plane\",\"prove\",\"river\",\"seven\",\"plant\",\"queen\",\"quick\",\"shall\",\"plate\",\"sixth\",\"stand\",\"shape\",\"point\",\"quiet\",\"roman\",\"share\",\"pound\",\"quite\",\"rough\",\"sharp\",\"sheet\",\"spare\",\"style\",\"times\",\"shelf\",\"speak\",\"sugar\",\"tired\",\"shell\",\"speed\",\"suite\",\"title\",\"shift\",\"spend\",\"super\",\"today\",\"shirt\",\"spent\",\"sweet\",\"topic\",\"shock\",\"split\",\"table\",\"total\",\"shoot\",\"spoke\",\"taken\",\"touch\",\"short\",\"sport\",\"taste\",\"tough\",\"shown\",\"staff\",\"taxes\",\"tower\",\"sight\",\"stage\",\"teach\",\"track\",\"since\",\"stake\",\"teeth\",\"trade\",\"sixty\",\"start\",\"texas\",\"treat\",\"sized\",\"state\",\"thank\",\"trend\",\"skill\",\"steam\",\"theft\",\"trial\",\"sleep\",\"steel\",\"their\",\"tried\",\"slide\",\"stick\",\"theme\",\"tries\",\"small\",\"still\",\"there\",\"truck\",\"smart\",\"stock\",\"these\",\"truly\",\"smile\",\"stone\",\"thick\",\"trust\",\"smith\",\"stood\",\"thing\",\"truth\",\"smoke\",\"store\",\"think\",\"twice\",\"solid\",\"storm\",\"third\",\"under\",\"solve\",\"story\",\"those\",\"undue\",\"sorry\",\"strip\",\"three\",\"union\",\"sound\",\"stuck\",\"threw\",\"unity\",\"south\",\"study\",\"throw\",\"until\",\"space\",\"stuff\",\"tight\",\"upper\",\"upset\",\"whole\",\"waste\",\"wound\",\"urban\",\"whose\",\"watch\",\"write\",\"usage\",\"woman\",\"water\",\"wrong\",\"usual\",\"train\",\"wheel\",\"wrote\",\"valid\",\"world\",\"where\",\"yield\",\"value\",\"worry\",\"which\",\"young\",\"video\",\"worse\",\"while\",\"youth\",\"virus\",\"worst\",\"white\",\"worth\",\"visit\",\"would\",\"vital\",\"voice\"]\n",
    "# ...\n",
    "while loop:\n",
    "    print(Back.WHITE + Fore.BLACK + \"Start a new game? (y/quit)\" + Style.RESET_ALL)\n",
    "    command = input()\n",
    "    if command == \"quit\":\n",
    "        loop = False\n",
    "    elif command == \"y\":\n",
    "        inner_loop = 0\n",
    "        word = random.choice(word_list)\n",
    "        print(\"Enter a word\")\n",
    "\n",
    "        while inner_loop < 6:\n",
    "\n",
    "            attempt = input()\n",
    "\n",
    "            # Game logic\n",
    "            output = \"\"\n",
    "            for i in range(word.__len__()):\n",
    "                if attempt[i] == word[i]:\n",
    "                    output = output + Back.RED + attempt[i] + Back.RESET\n",
    "                elif attempt[i] in word:\n",
    "                    output = output + Back.YELLOW + attempt[i] + Back.RESET\n",
    "                else:\n",
    "                    output = output + attempt[i] + Back.RESET\n",
    "            print(output)\n",
    "            if word == attempt:\n",
    "                print(\"Congrats\")\n",
    "                inner_loop = inner_loop + 6 # Reset game\n",
    "\n",
    "            inner_loop = inner_loop + 1\n",
    "\n",
    "from colorama import init, Fore, Back, Style\n",
    "import random\n",
    "\n",
    "loop = True\n",
    "word_list = [\"crown\", \"build\", \"logic\", \"plane\", \"focus\", \"money\", \"plant\", \"plate\", \"pound\", \"other\", \"input\", \"horse\", \"green\", \"group\", \"beans\", \"guide\", \"layer\", \"mayor\", \"lunch\", \"limit\", \"model\", \"point\", \"scope\", \"score\", \"title\", \"total\", \"world\"]\n",
    "while loop:\n",
    "    print(Back.WHITE + Fore.BLACK + \"Start a new game? (y/quit)\" + Style.RESET_ALL)\n",
    "command = input()\n",
    "if command == \"quit\":\n",
    "    loop = False\n",
    "elif command == \"y\":\n",
    "    inner_loop = 0\n",
    "    word = random.choice(word_list)\n",
    "    print(\"Enter a word\")\n",
    "\n",
    "    while inner_loop < 6:\n",
    "\n",
    "        attempt = input()\n",
    "\n",
    "        # Game logic\n",
    "        output = \"\"\n",
    "        for i in range(word.__len__()):\n",
    "            if attempt[i] == word[i]:\n",
    "                output = output + Back.RED + attempt[i] + Back.RESET\n",
    "            elif attempt[i] in word:\n",
    "                output = output + Back.YELLOW + attempt[i] + Back.RESET\n",
    "            else:\n",
    "                output = output + attempt[i] + Back.RESET\n",
    "        print(output)\n",
    "        if word == attempt:\n",
    "            print(\"Congrats\")\n",
    "            inner_loop = inner_loop + 6 # Reset game\n",
    "\n",
    "        inner_loop = inner_loop + 1"
   ]
  },
  {
   "cell_type": "markdown",
   "id": "fb3dfb93",
   "metadata": {},
   "source": [
    "Things we might try: \n",
    "- Check if the input is a real word, or a word in our word of list\n",
    "- Check if the input is 5 letters long, else prompt again.\n",
    "- Keep a score for as long as the game is played.\n",
    "- Adjust for single/multiple occurences of a letter"
   ]
  },
  {
   "cell_type": "markdown",
   "id": "8642a86c",
   "metadata": {},
   "source": [
    "This code orginally appeared here: https://gist.github.com/mbvissers/022856c8c3b91cf902cf54daf06cb796.\n",
    "\n",
    "The list of words is taken from here: https://byjus.com/english/5-letter-words/"
   ]
  },
  {
   "cell_type": "code",
   "execution_count": null,
   "id": "f8ee5dea",
   "metadata": {},
   "outputs": [],
   "source": []
  }
 ],
 "metadata": {
  "kernelspec": {
   "display_name": "Python 3 (ipykernel)",
   "language": "python",
   "name": "python3"
  },
  "language_info": {
   "codemirror_mode": {
    "name": "ipython",
    "version": 3
   },
   "file_extension": ".py",
   "mimetype": "text/x-python",
   "name": "python",
   "nbconvert_exporter": "python",
   "pygments_lexer": "ipython3",
   "version": "3.8.12"
  }
 },
 "nbformat": 4,
 "nbformat_minor": 5
}
